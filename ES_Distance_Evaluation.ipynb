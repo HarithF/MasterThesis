{
 "cells": [
  {
   "cell_type": "markdown",
   "id": "0b70df5e-3f83-4e19-a48a-85a7dde4f85a",
   "metadata": {},
   "source": [
    "# Library import"
   ]
  },
  {
   "cell_type": "code",
   "execution_count": 1,
   "id": "b4ca72d8-ffb3-4a8a-ab8d-dd0d4eea7727",
   "metadata": {},
   "outputs": [],
   "source": [
    "import numpy as np \n",
    "import pandas as pd \n",
    "import matplotlib.pyplot as plt\n",
    "import tensorflow as tf\n",
    "import cv2\n",
    "from sklearn.model_selection import train_test_split\n",
    "from sklearn.metrics import classification_report, confusion_matrix\n",
    "import math\n",
    "from tqdm import tqdm\n",
    "from scipy.stats import chi2\n",
    "\n",
    "from PIL import Image\n",
    "import os"
   ]
  },
  {
   "cell_type": "code",
   "execution_count": 2,
   "id": "4cab540e-c2a3-4d4f-85f6-1128f993f28a",
   "metadata": {},
   "outputs": [],
   "source": [
    "import tensorflow as tf\n",
    "from tensorflow import keras\n",
    "from keras import layers\n",
    "from keras.models import Model, Sequential\n",
    "from keras.layers import Dense, Dropout, Conv2D, MaxPooling2D, Flatten\n",
    "from sklearn.preprocessing import StandardScaler\n"
   ]
  },
  {
   "cell_type": "code",
   "execution_count": 3,
   "id": "22575142-5a39-45e0-8530-cf8654adee7a",
   "metadata": {},
   "outputs": [],
   "source": [
    "from sklearn.decomposition import PCA"
   ]
  },
  {
   "cell_type": "code",
   "execution_count": 5,
   "id": "97041e78-1c44-46ea-9d9f-b6e13dc2f874",
   "metadata": {},
   "outputs": [],
   "source": [
    "os.chdir(\"..\")"
   ]
  },
  {
   "cell_type": "code",
   "execution_count": 6,
   "id": "0e85bb5f-509e-46b2-beae-cc3dc827808a",
   "metadata": {},
   "outputs": [],
   "source": [
    "from safeml.DistanceMetricsVec import ES_Dist"
   ]
  },
  {
   "cell_type": "markdown",
   "id": "d0a6e12c-23e5-4759-9e1d-635e493a1642",
   "metadata": {},
   "source": [
    "# Model building"
   ]
  },
  {
   "cell_type": "code",
   "execution_count": 7,
   "id": "5106da97-697d-450a-90d8-c1978a84bbd1",
   "metadata": {},
   "outputs": [
    {
     "name": "stdout",
     "output_type": "stream",
     "text": [
      "Final_Training/Images\\00001\n",
      "Final_Training/Images\\00001\\GT-00001.csv is not an image\n",
      "Final_Training/Images\\00002\n",
      "Final_Training/Images\\00002\\GT-00002.csv is not an image\n",
      "Final_Training/Images\\00003\n",
      "Final_Training/Images\\00003\\GT-00003.csv is not an image\n",
      "Final_Training/Images\\00004\n",
      "Final_Training/Images\\00004\\GT-00004.csv is not an image\n",
      "Final_Training/Images\\00005\n",
      "Final_Training/Images\\00005\\GT-00005.csv is not an image\n",
      "Final_Training/Images\\00006\n",
      "Final_Training/Images\\00006\\GT-00006.csv is not an image\n",
      "Final_Training/Images\\00007\n",
      "Final_Training/Images\\00007\\GT-00007.csv is not an image\n",
      "Final_Training/Images\\00008\n",
      "Final_Training/Images\\00008\\GT-00008.csv is not an image\n",
      "Final_Training/Images\\00009\n",
      "Final_Training/Images\\00009\\GT-00009.csv is not an image\n",
      "Final_Training/Images\\00010\n",
      "Final_Training/Images\\00010\\GT-00010.csv is not an image\n",
      "Final_Training/Images\\00011\n",
      "Final_Training/Images\\00011\\GT-00011.csv is not an image\n",
      "Final_Training/Images\\00012\n",
      "Final_Training/Images\\00012\\GT-00012.csv is not an image\n",
      "Final_Training/Images\\00013\n",
      "Final_Training/Images\\00013\\GT-00013.csv is not an image\n",
      "Final_Training/Images\\00014\n",
      "Final_Training/Images\\00014\\GT-00014.csv is not an image\n",
      "Final_Training/Images\\00015\n",
      "Final_Training/Images\\00015\\GT-00015.csv is not an image\n",
      "Final_Training/Images\\00016\n",
      "Final_Training/Images\\00016\\GT-00016.csv is not an image\n",
      "Final_Training/Images\\00017\n",
      "Final_Training/Images\\00017\\GT-00017.csv is not an image\n",
      "Final_Training/Images\\00018\n",
      "Final_Training/Images\\00018\\GT-00018.csv is not an image\n",
      "Final_Training/Images\\00019\n",
      "Final_Training/Images\\00019\\GT-00019.csv is not an image\n",
      "Final_Training/Images\\00020\n",
      "Final_Training/Images\\00020\\GT-00020.csv is not an image\n",
      "Final_Training/Images\\00021\n",
      "Final_Training/Images\\00021\\GT-00021.csv is not an image\n",
      "Final_Training/Images\\00022\n",
      "Final_Training/Images\\00022\\GT-00022.csv is not an image\n",
      "Final_Training/Images\\00023\n",
      "Final_Training/Images\\00023\\GT-00023.csv is not an image\n",
      "Final_Training/Images\\00024\n",
      "Final_Training/Images\\00024\\GT-00024.csv is not an image\n",
      "Final_Training/Images\\00025\n",
      "Final_Training/Images\\00025\\GT-00025.csv is not an image\n",
      "Final_Training/Images\\00026\n",
      "Final_Training/Images\\00026\\GT-00026.csv is not an image\n",
      "Final_Training/Images\\00027\n",
      "Final_Training/Images\\00027\\GT-00027.csv is not an image\n",
      "Final_Training/Images\\00028\n",
      "Final_Training/Images\\00028\\GT-00028.csv is not an image\n",
      "Final_Training/Images\\00029\n",
      "Final_Training/Images\\00029\\GT-00029.csv is not an image\n",
      "Final_Training/Images\\00030\n",
      "Final_Training/Images\\00030\\GT-00030.csv is not an image\n",
      "Final_Training/Images\\00031\n",
      "Final_Training/Images\\00031\\GT-00031.csv is not an image\n",
      "Final_Training/Images\\00032\n",
      "Final_Training/Images\\00032\\GT-00032.csv is not an image\n",
      "Final_Training/Images\\00033\n",
      "Final_Training/Images\\00033\\GT-00033.csv is not an image\n",
      "Final_Training/Images\\00034\n",
      "Final_Training/Images\\00034\\GT-00034.csv is not an image\n",
      "Final_Training/Images\\00035\n",
      "Final_Training/Images\\00035\\GT-00035.csv is not an image\n",
      "Final_Training/Images\\00036\n",
      "Final_Training/Images\\00036\\GT-00036.csv is not an image\n",
      "Final_Training/Images\\00037\n",
      "Final_Training/Images\\00037\\GT-00037.csv is not an image\n",
      "Final_Training/Images\\00038\n",
      "Final_Training/Images\\00038\\GT-00038.csv is not an image\n",
      "Final_Training/Images\\00039\n",
      "Final_Training/Images\\00039\\GT-00039.csv is not an image\n",
      "Final_Training/Images\\00040\n",
      "Final_Training/Images\\00040\\GT-00040.csv is not an image\n",
      "Final_Training/Images\\00041\n",
      "Final_Training/Images\\00041\\GT-00041.csv is not an image\n",
      "Final_Training/Images\\00042\n",
      "Final_Training/Images\\00042\\GT-00042.csv is not an image\n"
     ]
    }
   ],
   "source": [
    "# Reading the input images and putting them into a numpy array\n",
    "data=[]\n",
    "labels=[]\n",
    "\n",
    "height = 30\n",
    "width = 30\n",
    "channels = 3\n",
    "\n",
    "n_inputs = height * width*channels\n",
    "\n",
    "ClassFolders = os.listdir(\"Final_Training/Images\")\n",
    "classes = len(ClassFolders)\n",
    "\n",
    "for idx, fileName in enumerate(ClassFolders) :\n",
    "    path = os.path.join(\"Final_Training/Images\", fileName)\n",
    "    #path = \"C:/cmder/Python_Tests/GTSRB/Train/{0}/\".format(i)\n",
    "    print(path)\n",
    "    classImges = os.listdir(path)\n",
    "    for img in classImges:\n",
    "        try:\n",
    "            image=cv2.imread(os.path.join(path, img))\n",
    "            image_from_array = Image.fromarray(image, 'RGB')\n",
    "            size_image = image_from_array.resize((height, width))\n",
    "            data.append(np.array(size_image))\n",
    "            labels.append(idx)\n",
    "        except AttributeError:\n",
    "            print(os.path.join(path, img) + \" is not an image\")\n",
    "            \n",
    "Cells=np.array(data)\n",
    "labels=np.array(labels)\n",
    "\n",
    "#Randomize the order of the input images\n",
    "s=np.arange(Cells.shape[0])\n",
    "np.random.seed(43)\n",
    "np.random.shuffle(s)\n",
    "Cells=Cells[s]\n",
    "labels=labels[s]"
   ]
  },
  {
   "cell_type": "code",
   "execution_count": 8,
   "id": "d9ebfac9-e50b-4c1d-8563-9457ec121aa3",
   "metadata": {},
   "outputs": [],
   "source": [
    "X_train, X_val, y_train, y_val = train_test_split(Cells, labels, test_size=0.30, random_state=42, stratify=labels)\n",
    "X_val, X_test, y_val, y_test = train_test_split(X_val, y_val, test_size=0.5, random_state=42, stratify=y_val)"
   ]
  },
  {
   "cell_type": "code",
   "execution_count": 9,
   "id": "1e60b828-f58c-4d34-a8a6-6ace94f86b49",
   "metadata": {},
   "outputs": [],
   "source": [
    "X_train = X_train.astype('float32')/255 \n",
    "X_val = X_val.astype('float32')/255\n",
    "X_test = X_test.astype('float32')/255"
   ]
  },
  {
   "cell_type": "code",
   "execution_count": 10,
   "id": "0894f4b9-f0b7-4529-8d07-b72b1c01c378",
   "metadata": {},
   "outputs": [
    {
     "name": "stdout",
     "output_type": "stream",
     "text": [
      "(26314, 30, 30, 3) (5639, 30, 30, 3) (5639, 30, 30, 3)\n",
      "(26314,) (5639,) (5639,)\n"
     ]
    }
   ],
   "source": [
    "print(X_train.shape, X_val.shape, X_test.shape)\n",
    "print(y_train.shape, y_val.shape, y_test.shape)"
   ]
  },
  {
   "cell_type": "code",
   "execution_count": 11,
   "id": "afc2c99c-4def-4ec7-9600-f86b4d9b220c",
   "metadata": {},
   "outputs": [],
   "source": [
    "X_train = X_train[y_train != 0]\n",
    "X_val = X_val[y_val != 0]\n",
    "\n",
    "y_train = y_train[y_train != 0]\n",
    "y_val = y_val[y_val != 0]\n",
    "\n"
   ]
  },
  {
   "cell_type": "code",
   "execution_count": 12,
   "id": "abdf850c-77ef-4b6e-9d3a-1cb813dbdaa4",
   "metadata": {},
   "outputs": [],
   "source": [
    "y_train = keras.utils.to_categorical(y_train, classes)\n",
    "y_val = keras.utils.to_categorical(y_val, classes)\n",
    "y_test = keras.utils.to_categorical(y_test, classes)"
   ]
  },
  {
   "cell_type": "code",
   "execution_count": 13,
   "id": "8aea60af-9ff2-47d8-aa14-9ec797bf142f",
   "metadata": {},
   "outputs": [
    {
     "name": "stdout",
     "output_type": "stream",
     "text": [
      "(25745, 30, 30, 3) (5517, 30, 30, 3) (5639, 30, 30, 3)\n",
      "(25745, 42) (5517, 42) (5639, 42)\n"
     ]
    }
   ],
   "source": [
    "print(X_train.shape, X_val.shape, X_test.shape)\n",
    "print(y_train.shape, y_val.shape, y_test.shape)"
   ]
  },
  {
   "cell_type": "code",
   "execution_count": 14,
   "id": "ac6477f8-f582-45d8-96f5-8c69364db27a",
   "metadata": {},
   "outputs": [],
   "source": [
    "def build_model(input_shape, num_features, num_labels):\n",
    "\n",
    "    model = Sequential()\n",
    "    model.add(Conv2D(filters=32, kernel_size=(5,5), activation='relu', input_shape=X_train.shape[1:]))\n",
    "    model.add(Conv2D(filters=64, kernel_size=(3, 3), activation='relu'))\n",
    "    model.add(MaxPooling2D(pool_size=(2, 2)))\n",
    "    \n",
    "    model.add(Dropout(rate=0.25))\n",
    "    model.add(Conv2D(filters=64, kernel_size=(3, 3), activation='relu'))\n",
    "    model.add(MaxPooling2D(pool_size=(2, 2)))\n",
    "    \n",
    "    model.add(Dropout(rate=0.25))\n",
    "    model.add(Flatten())\n",
    "    \n",
    "    model.add(Dense(256, activation='relu'))\n",
    "    model.add(Dropout(rate=0.5))\n",
    "    \n",
    "    model.add(Dense(num_features, activation='relu'))\n",
    "    model.add(Dense(num_labels, activation='softmax'))\n",
    "\n",
    "    return model\n",
    "\n",
    "def compile_model(model, lr, loss='categorical_crossentropy', optimizer='adam', acc_metric = \"accuracy\"):\n",
    "    \n",
    "    optimizer = tf.keras.optimizers.Adam(learning_rate=lr) \n",
    "    model.compile(loss=loss, optimizer=optimizer, metrics=[acc_metric])\n",
    "    \n",
    "    return model"
   ]
  },
  {
   "cell_type": "code",
   "execution_count": 15,
   "id": "34ffa443-27bd-4eea-8b67-b733d72305b4",
   "metadata": {},
   "outputs": [],
   "source": [
    "lr = .001\n",
    "max_epochs = 50\n",
    "patience = 3\n",
    "batch_size = 128\n",
    "input_shape =X_train.shape[1:]\n",
    "num_features = 100\n",
    "num_labels = classes"
   ]
  },
  {
   "cell_type": "code",
   "execution_count": 16,
   "id": "dd792432-643e-4941-b534-125869a56101",
   "metadata": {},
   "outputs": [
    {
     "name": "stdout",
     "output_type": "stream",
     "text": [
      "Model: \"sequential\"\n",
      "_________________________________________________________________\n",
      " Layer (type)                Output Shape              Param #   \n",
      "=================================================================\n",
      " conv2d (Conv2D)             (None, 26, 26, 32)        2432      \n",
      "                                                                 \n",
      " conv2d_1 (Conv2D)           (None, 24, 24, 64)        18496     \n",
      "                                                                 \n",
      " max_pooling2d (MaxPooling2D  (None, 12, 12, 64)       0         \n",
      " )                                                               \n",
      "                                                                 \n",
      " dropout (Dropout)           (None, 12, 12, 64)        0         \n",
      "                                                                 \n",
      " conv2d_2 (Conv2D)           (None, 10, 10, 64)        36928     \n",
      "                                                                 \n",
      " max_pooling2d_1 (MaxPooling  (None, 5, 5, 64)         0         \n",
      " 2D)                                                             \n",
      "                                                                 \n",
      " dropout_1 (Dropout)         (None, 5, 5, 64)          0         \n",
      "                                                                 \n",
      " flatten (Flatten)           (None, 1600)              0         \n",
      "                                                                 \n",
      " dense (Dense)               (None, 256)               409856    \n",
      "                                                                 \n",
      " dropout_2 (Dropout)         (None, 256)               0         \n",
      "                                                                 \n",
      " dense_1 (Dense)             (None, 100)               25700     \n",
      "                                                                 \n",
      " dense_2 (Dense)             (None, 42)                4242      \n",
      "                                                                 \n",
      "=================================================================\n",
      "Total params: 497,654\n",
      "Trainable params: 497,654\n",
      "Non-trainable params: 0\n",
      "_________________________________________________________________\n",
      "None\n"
     ]
    }
   ],
   "source": [
    "model = build_model(input_shape, num_features, num_labels)\n",
    "model = compile_model(model, lr)\n",
    "print(model.summary())"
   ]
  },
  {
   "cell_type": "code",
   "execution_count": 17,
   "id": "25474c61-27f0-4f61-8c30-372fc45a93f3",
   "metadata": {},
   "outputs": [
    {
     "name": "stdout",
     "output_type": "stream",
     "text": [
      "Epoch 1/50\n",
      "202/202 [==============================] - 20s 95ms/step - loss: 2.1083 - accuracy: 0.4229 - val_loss: 0.5269 - val_accuracy: 0.8688\n",
      "Epoch 2/50\n",
      "202/202 [==============================] - 20s 97ms/step - loss: 0.5314 - accuracy: 0.8334 - val_loss: 0.1624 - val_accuracy: 0.9572\n",
      "Epoch 3/50\n",
      "202/202 [==============================] - 19s 95ms/step - loss: 0.2828 - accuracy: 0.9142 - val_loss: 0.0846 - val_accuracy: 0.9784\n",
      "Epoch 4/50\n",
      "202/202 [==============================] - 19s 94ms/step - loss: 0.1864 - accuracy: 0.9427 - val_loss: 0.0603 - val_accuracy: 0.9844\n",
      "Epoch 5/50\n",
      "202/202 [==============================] - 19s 94ms/step - loss: 0.1389 - accuracy: 0.9565 - val_loss: 0.0513 - val_accuracy: 0.9855\n",
      "Epoch 6/50\n",
      "202/202 [==============================] - 19s 94ms/step - loss: 0.1147 - accuracy: 0.9633 - val_loss: 0.0395 - val_accuracy: 0.9917\n",
      "Epoch 7/50\n",
      "202/202 [==============================] - 19s 95ms/step - loss: 0.0910 - accuracy: 0.9717 - val_loss: 0.0304 - val_accuracy: 0.9933\n",
      "Epoch 8/50\n",
      "202/202 [==============================] - 19s 94ms/step - loss: 0.0782 - accuracy: 0.9757 - val_loss: 0.0329 - val_accuracy: 0.9909\n",
      "Epoch 9/50\n",
      "202/202 [==============================] - 19s 94ms/step - loss: 0.0756 - accuracy: 0.9758 - val_loss: 0.0260 - val_accuracy: 0.9938\n",
      "Epoch 10/50\n",
      "202/202 [==============================] - 19s 95ms/step - loss: 0.0625 - accuracy: 0.9804 - val_loss: 0.0246 - val_accuracy: 0.9935\n",
      "Epoch 11/50\n",
      "202/202 [==============================] - 19s 94ms/step - loss: 0.0534 - accuracy: 0.9840 - val_loss: 0.0230 - val_accuracy: 0.9942\n",
      "Epoch 12/50\n",
      "202/202 [==============================] - 19s 94ms/step - loss: 0.0566 - accuracy: 0.9826 - val_loss: 0.0266 - val_accuracy: 0.9922\n",
      "Epoch 13/50\n",
      "202/202 [==============================] - 19s 95ms/step - loss: 0.0463 - accuracy: 0.9852 - val_loss: 0.0267 - val_accuracy: 0.9955\n",
      "Epoch 14/50\n",
      "202/202 [==============================] - 19s 95ms/step - loss: 0.0449 - accuracy: 0.9853 - val_loss: 0.0217 - val_accuracy: 0.9962\n",
      "Epoch 15/50\n",
      "202/202 [==============================] - 19s 95ms/step - loss: 0.0498 - accuracy: 0.9850 - val_loss: 0.0178 - val_accuracy: 0.9958\n",
      "Epoch 16/50\n",
      "202/202 [==============================] - 19s 95ms/step - loss: 0.0375 - accuracy: 0.9881 - val_loss: 0.0217 - val_accuracy: 0.9947\n",
      "Epoch 17/50\n",
      "202/202 [==============================] - 19s 95ms/step - loss: 0.0455 - accuracy: 0.9862 - val_loss: 0.0216 - val_accuracy: 0.9956\n",
      "Epoch 18/50\n",
      "202/202 [==============================] - 19s 94ms/step - loss: 0.0381 - accuracy: 0.9875 - val_loss: 0.0208 - val_accuracy: 0.9958\n"
     ]
    }
   ],
   "source": [
    "callback = tf.keras.callbacks.EarlyStopping(monitor='val_loss', patience=patience, restore_best_weights=True)                    \n",
    "history = model.fit(X_train, y_train, epochs=max_epochs, batch_size=batch_size, validation_data=(X_val, y_val),\n",
    "                            shuffle=False, callbacks=[callback])"
   ]
  },
  {
   "cell_type": "code",
   "execution_count": 18,
   "id": "6888a317-05a2-4d1d-a75d-0aafb306c2f6",
   "metadata": {},
   "outputs": [
    {
     "name": "stdout",
     "output_type": "stream",
     "text": [
      "177/177 [==============================] - 1s 7ms/step - loss: 1.0668 - accuracy: 0.9738\n",
      "[1.0668376684188843, 0.9737542271614075]\n"
     ]
    }
   ],
   "source": [
    "accr = model.evaluate(X_test, y_test)\n",
    "print(accr)"
   ]
  },
  {
   "cell_type": "markdown",
   "id": "9287f4e8-a9a2-4486-99e6-9c15d3f3a3eb",
   "metadata": {},
   "source": [
    "# Distance Measure Evaluation"
   ]
  },
  {
   "cell_type": "code",
   "execution_count": 19,
   "id": "792e1bbb-4baa-42ef-a338-16b735bcdcb5",
   "metadata": {},
   "outputs": [
    {
     "name": "stdout",
     "output_type": "stream",
     "text": [
      "177/177 [==============================] - 1s 7ms/step\n"
     ]
    }
   ],
   "source": [
    "y_pred = np.argmax(model.predict(X_test), 1)\n",
    "y_real = np.argmax(y_test, 1)"
   ]
  },
  {
   "cell_type": "code",
   "execution_count": 20,
   "id": "7c066ca2-fe2b-4da6-82db-8f4577b32bf1",
   "metadata": {},
   "outputs": [
    {
     "name": "stdout",
     "output_type": "stream",
     "text": [
      "[1. 1. 1. ... 1. 0. 1.]\n"
     ]
    }
   ],
   "source": [
    "mask = np.zeros(len(y_pred))\n",
    "for idx, yp in enumerate(y_pred):\n",
    "    mask[idx] = yp == y_real[idx]\n",
    "    \n",
    "print(mask)"
   ]
  },
  {
   "cell_type": "code",
   "execution_count": 21,
   "id": "6fbe42dd-97a9-4570-90ef-3c6f6e98dc16",
   "metadata": {},
   "outputs": [
    {
     "name": "stdout",
     "output_type": "stream",
     "text": [
      "148.0\n"
     ]
    }
   ],
   "source": [
    "print(len(mask) - mask.sum() )"
   ]
  },
  {
   "cell_type": "code",
   "execution_count": 22,
   "id": "09b33dbf-72da-430c-b878-a6ca87ec4260",
   "metadata": {},
   "outputs": [],
   "source": [
    "def create_filter(model):\n",
    "    \n",
    "    x = model.layers[-2].output\n",
    "    output = Model(inputs = model.input, outputs= x)\n",
    "    \n",
    "    return output"
   ]
  },
  {
   "cell_type": "code",
   "execution_count": 23,
   "id": "ad6df678-16f8-43cf-bf85-ea761f26ec62",
   "metadata": {},
   "outputs": [],
   "source": [
    "filter_model = create_filter(model)"
   ]
  },
  {
   "cell_type": "code",
   "execution_count": 24,
   "id": "0a98a2d4-6a33-48a4-a88b-6dadada298c7",
   "metadata": {},
   "outputs": [
    {
     "name": "stdout",
     "output_type": "stream",
     "text": [
      "805/805 [==============================] - 5s 7ms/step\n",
      "177/177 [==============================] - 1s 7ms/step\n"
     ]
    }
   ],
   "source": [
    "filtered_train = filter_model.predict(X_train)\n",
    "filtered_test = filter_model.predict(X_test)"
   ]
  },
  {
   "cell_type": "code",
   "execution_count": 25,
   "id": "3a94ab3b-22f1-472f-81e8-ce851d8e42e8",
   "metadata": {},
   "outputs": [
    {
     "name": "stdout",
     "output_type": "stream",
     "text": [
      "[362.02887  231.05118  206.50307  149.62177  120.668175  95.74541\n",
      "  88.0245    69.46353   60.787663  51.181606  46.70602   33.896313\n",
      "  32.8189    24.43839   19.679035]\n"
     ]
    }
   ],
   "source": [
    "pca = PCA(n_components=15)\n",
    "train_components = pca.fit_transform(filtered_train)\n",
    "print(pca.explained_variance_)"
   ]
  },
  {
   "cell_type": "code",
   "execution_count": 26,
   "id": "925e8cb3-c3fc-42f3-911a-088ad44f8662",
   "metadata": {},
   "outputs": [
    {
     "name": "stdout",
     "output_type": "stream",
     "text": [
      "[0.21136696636676788, 0.34626391530036926, 0.46682868897914886, 0.5541838780045509, 0.6246347948908806, 0.680534802377224, 0.7319270335137844, 0.7724826298654079, 0.8079729042947292, 0.837854778394103, 0.865123625844717, 0.8849136531352997, 0.9040746428072453, 0.918342755176127]\n"
     ]
    }
   ],
   "source": [
    "explained = pca.explained_variance_ratio_\n",
    "explained = [sum(explained[:x]) for x in range(1,len(explained))]\n",
    "\n",
    "print(explained)"
   ]
  },
  {
   "cell_type": "code",
   "execution_count": 27,
   "id": "38a4899a-4eed-4cf9-a526-3fed7aedd5b7",
   "metadata": {},
   "outputs": [
    {
     "data": {
      "text/plain": [
       "Text(0.5, 0, 'component number')"
      ]
     },
     "execution_count": 27,
     "metadata": {},
     "output_type": "execute_result"
    },
    {
     "data": {
      "image/png": "[encoded data removed]",
      "text/plain": [
       "<Figure size 432x288 with 1 Axes>"
      ]
     },
     "metadata": {
      "needs_background": "light"
     },
     "output_type": "display_data"
    }
   ],
   "source": [
    "fig, ax1 = plt.subplots()\n",
    "plt.plot(pca.explained_variance_)\n",
    "\n",
    "\n",
    "plt.xlabel('component number')"
   ]
  },
  {
   "cell_type": "code",
   "execution_count": 28,
   "id": "1d15e4d5-afe6-4cd8-a47c-2fbf38a9bede",
   "metadata": {},
   "outputs": [],
   "source": [
    "test_components = pca.transform(filtered_test)"
   ]
  },
  {
   "cell_type": "code",
   "execution_count": 29,
   "id": "6111b938-5cbf-47d8-8230-3daeb0d6cbdc",
   "metadata": {},
   "outputs": [
    {
     "name": "stdout",
     "output_type": "stream",
     "text": [
      "(5491, 10) (148, 10)\n"
     ]
    }
   ],
   "source": [
    "test_correct = test_components[mask == 1, :10]\n",
    "test_incorrect = test_components[mask ==0, :10]\n",
    "\n",
    "print(test_correct.shape, test_incorrect.shape)"
   ]
  },
  {
   "cell_type": "code",
   "execution_count": 30,
   "id": "dc5a6634-fae6-49e8-a317-3e3361a30d71",
   "metadata": {},
   "outputs": [
    {
     "name": "stdout",
     "output_type": "stream",
     "text": [
      "(25745, 10)\n"
     ]
    }
   ],
   "source": [
    "train_samplespace = train_components[:, :10]\n",
    "print(train_samplespace.shape)"
   ]
  },
  {
   "cell_type": "markdown",
   "id": "786a8604-d032-42a8-8e13-e3ba8c48b88f",
   "metadata": {},
   "source": [
    "# Epps Singlton Test"
   ]
  },
  {
   "cell_type": "code",
   "execution_count": 33,
   "id": "f4e78648-dbc7-4ac4-a1d1-570175523bc5",
   "metadata": {},
   "outputs": [],
   "source": [
    "def get_es_distance(train_set, test_set):\n",
    "    #return statistical distance measures\n",
    "    if (train_set.shape[1] != test_set.shape[1]):\n",
    "        print(f\"input features are not compatible. input one size {train_set.shape[1]} does not match input two size {test_set.shape[1]}\")\n",
    "        return None\n",
    "    else:\n",
    "        input_features = train_set.shape[1]\n",
    "        \n",
    "    input_features = train_set.shape[1]\n",
    "    \n",
    "    w2 = np.zeros(input_features)\n",
    "    p_val = np.zeros(input_features)\n",
    "\n",
    "\n",
    "    for i in range(input_features):\n",
    "        \n",
    "        w2[i], p_val[i] = ES_Dist(train_set[:, i], test_set[:, i])\n",
    "        \n",
    "        \n",
    "    return (w2, p_val)"
   ]
  },
  {
   "cell_type": "markdown",
   "id": "5d0b0b6a-5cb4-44d4-8afb-6fcf1bf3ee28",
   "metadata": {},
   "source": [
    "## Distance vs Samples Number"
   ]
  },
  {
   "cell_type": "code",
   "execution_count": 34,
   "id": "3fa05a99-7f10-490f-ae48-5e405b5476a4",
   "metadata": {},
   "outputs": [],
   "source": [
    "value_range = range(5, 101, 5)\n",
    "trails = 200\n",
    "alpha = 0.1\n",
    "\n",
    "correct  = np.zeros((len(value_range)))\n",
    "incorrect  = np.zeros((len(value_range)))\n",
    "\n",
    "\n",
    "\n",
    "for idx, smp_n in (enumerate(value_range)):\n",
    "    \n",
    "\n",
    "    idx_train = np.random.choice(train_samplespace.shape[0], smp_n, replace=False)\n",
    "    idx_correct = np.random.choice(test_correct.shape[0], smp_n, replace=False)\n",
    "    idx_incorrect = np.random.choice(test_incorrect.shape[0], smp_n, replace=False)\n",
    "\n",
    "    dist_correct, p_correct = get_es_distance(train_samplespace[idx_train], test_correct[idx_correct])\n",
    "    dist_incorrect, p_incorrect = get_es_distance(train_samplespace[idx_train], test_incorrect[idx_incorrect])\n",
    "\n",
    "\n",
    "    correct[idx] = dist_correct.mean()\n",
    "    incorrect[idx] = dist_incorrect.mean()\n",
    "\n",
    "\n",
    "      "
   ]
  },
  {
   "cell_type": "code",
   "execution_count": 40,
   "id": "fcfcedcf-09ec-461b-9879-fa2ef2fe58fb",
   "metadata": {},
   "outputs": [
    {
     "data": {
      "image/png": "[encoded data removed]",
      "text/plain": [
       "<Figure size 720x504 with 1 Axes>"
      ]
     },
     "metadata": {
      "needs_background": "light"
     },
     "output_type": "display_data"
    }
   ],
   "source": [
    "fig=plt.figure(figsize=[10,7])\n",
    "y1, y2 = correct, incorrect\n",
    "#print(y1, y2)\n",
    "\n",
    "plt.plot(y1, 'b')\n",
    "plt.plot(y2, 'r')\n",
    "plt.xticks(range(20), range(5, 101, 5), rotation = 45)\n",
    "\n",
    "plt.title(\"ES distance with increasing samples\")\n",
    "plt.legend([\"Correcly classified\", \"Incorrectly classified\"], loc = 2)\n",
    "plt.ylabel(\"Distance\")\n",
    "plt.xlabel(\"# Samples\")\n",
    "\n",
    "plt.show()"
   ]
  },
  {
   "cell_type": "markdown",
   "id": "abe80b9f-8ba0-455a-84e8-f858e24ba408",
   "metadata": {},
   "source": [
    "# ES Bootstrap Power Analysis"
   ]
  },
  {
   "cell_type": "code",
   "execution_count": 43,
   "id": "4bbcaeb1-18b8-4cfc-a493-c992e247f5f4",
   "metadata": {},
   "outputs": [],
   "source": [
    "value_range = range(5, 101, 5)\n",
    "trails = 100\n",
    "alpha = 0.1\n",
    "\n",
    "false_positive_mean  = np.zeros((len(value_range)))\n",
    "false_negative_mean  = np.zeros((len(value_range)))\n",
    "\n",
    "for idx, smp_n in (enumerate(value_range)):\n",
    "    \n",
    "    for sim_number in range(trails):\n",
    "\n",
    "        idx_train = np.random.choice(train_samplespace.shape[0], smp_n, replace=False)\n",
    "        idx_correct = np.random.choice(test_correct.shape[0], smp_n, replace=False)\n",
    "        idx_incorrect = np.random.choice(test_incorrect.shape[0], smp_n, replace=False)\n",
    "\n",
    "        dist_correct, p_correct = get_es_distance(train_samplespace[idx_train], test_correct[idx_correct])\n",
    "        dist_incorrect, p_incorrect = get_es_distance(train_samplespace[idx_train], test_incorrect[idx_incorrect])\n",
    "    \n",
    "\n",
    "        false_positive_mean[idx] += 1 if p_incorrect.mean() > alpha else 0\n",
    "        false_negative_mean[idx] += 1 if p_correct.mean() < alpha else 0\n",
    "        \n",
    "\n",
    "            "
   ]
  },
  {
   "cell_type": "code",
   "execution_count": 63,
   "id": "83155b41-d270-476c-8de5-df0f6bf56903",
   "metadata": {},
   "outputs": [
    {
     "data": {
      "image/png": "[encoded data removed]",
      "text/plain": [
       "<Figure size 504x360 with 1 Axes>"
      ]
     },
     "metadata": {
      "needs_background": "light"
     },
     "output_type": "display_data"
    }
   ],
   "source": [
    "fig=plt.figure(figsize=[7,5])\n",
    "\n",
    "\n",
    "power_mean = (2*trails - false_positive_mean - false_negative_mean)/(2*trails)\n",
    "\n",
    "\n",
    "plt.plot(power_mean)\n",
    "\n",
    "plt.xticks(range(20), range(5, 101, 5), rotation = 45)\n",
    "title_str = \"Power using ES test\"\n",
    "plt.title(title_str)\n",
    "plt.ylabel(\"Percentage of Trial (Power)\")\n",
    "plt.xlabel(\"# Samples\")\n",
    "\n",
    "plt.show()"
   ]
  },
  {
   "cell_type": "code",
   "execution_count": 62,
   "id": "7a5b5675-7a85-43ea-9aac-17aa7f0d390b",
   "metadata": {},
   "outputs": [
    {
     "data": {
      "image/png": "[encoded data removed]",
      "text/plain": [
       "<Figure size 504x360 with 1 Axes>"
      ]
     },
     "metadata": {
      "needs_background": "light"
     },
     "output_type": "display_data"
    }
   ],
   "source": [
    "fig=plt.figure(figsize=[7,5])\n",
    "y1, y2 = false_positive_mean/trails, false_negative_mean/trails\n",
    "#print(y1, y2)\n",
    "\n",
    "plt.plot(y1, 'b')\n",
    "plt.plot(y2, 'r')\n",
    "plt.xticks(range(20), range(5, 101, 5), rotation = 45)\n",
    "\n",
    "plt.title(\"Components of ES Bootstrap Power Analysis\")\n",
    "plt.legend([\"False positive rate\", \"False negative rate\"], loc = 1)\n",
    "plt.ylabel(\"Percentage of Trial\")\n",
    "plt.xlabel(\"# Samples\")\n",
    "\n",
    "plt.show()"
   ]
  },
  {
   "cell_type": "code",
   "execution_count": null,
   "id": "2337c6f8-8ede-4b32-802e-19761756e507",
   "metadata": {},
   "outputs": [],
   "source": []
  }
 ],
 "metadata": {
  "kernelspec": {
   "display_name": "Python 3",
   "language": "python",
   "name": "python3"
  },
  "language_info": {
   "codemirror_mode": {
    "name": "ipython",
    "version": 3
   },
   "file_extension": ".py",
   "mimetype": "text/x-python",
   "name": "python",
   "nbconvert_exporter": "python",
   "pygments_lexer": "ipython3",
   "version": "3.9.2"
  }
 },
 "nbformat": 4,
 "nbformat_minor": 5
}
