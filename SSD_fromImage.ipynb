{
 "cells": [
  {
   "attachments": {},
   "cell_type": "markdown",
   "id": "364b6dda",
   "metadata": {},
   "source": [
    "## Library Imports"
   ]
  },
  {
   "cell_type": "code",
   "execution_count": 5,
   "id": "638be16c-ae6c-4b4c-b0c6-3d5a864e2164",
   "metadata": {},
   "outputs": [],
   "source": [
    "import numpy as np\n",
    "import pandas as pd\n",
    "import os\n",
    "from os import path\n",
    "import math\n",
    "from tqdm import tqdm\n",
    "\n",
    "import matplotlib.pyplot as plt\n",
    "\n",
    "from sklearn.model_selection import train_test_split\n",
    "\n",
    "from sklearn.preprocessing import StandardScaler\n",
    "from sklearn.svm import SVC\n",
    "from sklearn.pipeline import Pipeline\n",
    "\n",
    "from sklearn.metrics import classification_report, confusion_matrix\n",
    "\n",
    "import pickle\n",
    "\n",
    "import cv2\n",
    "import math\n",
    "from tqdm import tqdm\n",
    "\n",
    "from PIL import Image\n",
    "import os\n",
    "import copy\n",
    "from imagecorruptions import corrupt"
   ]
  },
  {
   "cell_type": "code",
   "execution_count": 2,
   "id": "4f3ffc69-96a2-4dea-8e3c-d6fb5e410d09",
   "metadata": {},
   "outputs": [],
   "source": [
    "os.chdir(\"..\")"
   ]
  },
  {
   "cell_type": "code",
   "execution_count": 3,
   "id": "40a25015-9da8-4344-9bc5-8e0680ad974c",
   "metadata": {},
   "outputs": [],
   "source": [
    "\n",
    "from DistanceMetricsVec import Anderson_Darling_Dist_PVal as AD_p\n",
    "from DistanceMetricsVec import Kolmogorov_Smirnov_Dist_PVal as KS_p\n"
   ]
  },
  {
   "cell_type": "code",
   "execution_count": null,
   "id": "5f201168-6dc6-414d-bb34-0a86c92dd8e7",
   "metadata": {},
   "outputs": [],
   "source": [
    "from utils.CriticalValues import KS_crit, AD_crit"
   ]
  },
  {
   "attachments": {},
   "cell_type": "markdown",
   "id": "d1f6e6a6",
   "metadata": {},
   "source": [
    "## Import Data"
   ]
  },
  {
   "cell_type": "code",
   "execution_count": 6,
   "id": "c28705d5-2334-4acb-af6a-c8e43cfa0068",
   "metadata": {},
   "outputs": [
    {
     "name": "stdout",
     "output_type": "stream",
     "text": [
      "Final_Training/Images\\00001\n",
      "Final_Training/Images\\00001\\GT-00001.csv is not an image\n",
      "Final_Training/Images\\00002\n",
      "Final_Training/Images\\00002\\GT-00002.csv is not an image\n",
      "Final_Training/Images\\00003\n",
      "Final_Training/Images\\00003\\GT-00003.csv is not an image\n",
      "Final_Training/Images\\00004\n",
      "Final_Training/Images\\00004\\GT-00004.csv is not an image\n",
      "Final_Training/Images\\00005\n",
      "Final_Training/Images\\00005\\GT-00005.csv is not an image\n",
      "Final_Training/Images\\00006\n",
      "Final_Training/Images\\00006\\GT-00006.csv is not an image\n",
      "Final_Training/Images\\00007\n",
      "Final_Training/Images\\00007\\GT-00007.csv is not an image\n",
      "Final_Training/Images\\00008\n",
      "Final_Training/Images\\00008\\GT-00008.csv is not an image\n",
      "Final_Training/Images\\00009\n",
      "Final_Training/Images\\00009\\GT-00009.csv is not an image\n",
      "Final_Training/Images\\00010\n",
      "Final_Training/Images\\00010\\GT-00010.csv is not an image\n",
      "Final_Training/Images\\00011\n",
      "Final_Training/Images\\00011\\GT-00011.csv is not an image\n",
      "Final_Training/Images\\00012\n",
      "Final_Training/Images\\00012\\GT-00012.csv is not an image\n",
      "Final_Training/Images\\00013\n",
      "Final_Training/Images\\00013\\GT-00013.csv is not an image\n",
      "Final_Training/Images\\00014\n",
      "Final_Training/Images\\00014\\GT-00014.csv is not an image\n",
      "Final_Training/Images\\00015\n",
      "Final_Training/Images\\00015\\GT-00015.csv is not an image\n",
      "Final_Training/Images\\00016\n",
      "Final_Training/Images\\00016\\GT-00016.csv is not an image\n",
      "Final_Training/Images\\00017\n",
      "Final_Training/Images\\00017\\GT-00017.csv is not an image\n",
      "Final_Training/Images\\00018\n",
      "Final_Training/Images\\00018\\GT-00018.csv is not an image\n",
      "Final_Training/Images\\00019\n",
      "Final_Training/Images\\00019\\GT-00019.csv is not an image\n",
      "Final_Training/Images\\00020\n",
      "Final_Training/Images\\00020\\GT-00020.csv is not an image\n",
      "Final_Training/Images\\00021\n",
      "Final_Training/Images\\00021\\GT-00021.csv is not an image\n",
      "Final_Training/Images\\00022\n",
      "Final_Training/Images\\00022\\GT-00022.csv is not an image\n",
      "Final_Training/Images\\00023\n",
      "Final_Training/Images\\00023\\GT-00023.csv is not an image\n",
      "Final_Training/Images\\00024\n",
      "Final_Training/Images\\00024\\GT-00024.csv is not an image\n",
      "Final_Training/Images\\00025\n",
      "Final_Training/Images\\00025\\GT-00025.csv is not an image\n",
      "Final_Training/Images\\00026\n",
      "Final_Training/Images\\00026\\GT-00026.csv is not an image\n",
      "Final_Training/Images\\00027\n",
      "Final_Training/Images\\00027\\GT-00027.csv is not an image\n",
      "Final_Training/Images\\00028\n",
      "Final_Training/Images\\00028\\GT-00028.csv is not an image\n",
      "Final_Training/Images\\00029\n",
      "Final_Training/Images\\00029\\GT-00029.csv is not an image\n",
      "Final_Training/Images\\00030\n",
      "Final_Training/Images\\00030\\GT-00030.csv is not an image\n",
      "Final_Training/Images\\00031\n",
      "Final_Training/Images\\00031\\GT-00031.csv is not an image\n",
      "Final_Training/Images\\00032\n",
      "Final_Training/Images\\00032\\GT-00032.csv is not an image\n",
      "Final_Training/Images\\00033\n",
      "Final_Training/Images\\00033\\GT-00033.csv is not an image\n",
      "Final_Training/Images\\00034\n",
      "Final_Training/Images\\00034\\GT-00034.csv is not an image\n",
      "Final_Training/Images\\00035\n",
      "Final_Training/Images\\00035\\GT-00035.csv is not an image\n",
      "Final_Training/Images\\00036\n",
      "Final_Training/Images\\00036\\GT-00036.csv is not an image\n",
      "Final_Training/Images\\00037\n",
      "Final_Training/Images\\00037\\GT-00037.csv is not an image\n",
      "Final_Training/Images\\00038\n",
      "Final_Training/Images\\00038\\GT-00038.csv is not an image\n",
      "Final_Training/Images\\00039\n",
      "Final_Training/Images\\00039\\GT-00039.csv is not an image\n",
      "Final_Training/Images\\00040\n",
      "Final_Training/Images\\00040\\GT-00040.csv is not an image\n",
      "Final_Training/Images\\00041\n",
      "Final_Training/Images\\00041\\GT-00041.csv is not an image\n",
      "Final_Training/Images\\00042\n",
      "Final_Training/Images\\00042\\GT-00042.csv is not an image\n"
     ]
    }
   ],
   "source": [
    "# Reading the input images and putting them into a numpy array\n",
    "data=[]\n",
    "labels=[]\n",
    "\n",
    "height = 32 #import as 32x32 minimum size required by corrpution\n",
    "width = 32\n",
    "channels = 3\n",
    "\n",
    "n_inputs = height * width*channels\n",
    "\n",
    "ClassFolders = os.listdir(\"Final_Training/Images\")\n",
    "classes = len(ClassFolders)\n",
    "\n",
    "for idx, fileName in enumerate(ClassFolders) :\n",
    "    path = os.path.join(\"Final_Training/Images\", fileName)\n",
    "    #path = \"C:/cmder/Python_Tests/GTSRB/Train/{0}/\".format(i)\n",
    "    print(path)\n",
    "    classImges = os.listdir(path)\n",
    "    for img in classImges:\n",
    "        try:\n",
    "            image=cv2.imread(os.path.join(path, img))\n",
    "            image_from_array = Image.fromarray(image, 'RGB')\n",
    "            size_image = image_from_array.resize((height, width))\n",
    "            data.append(np.array(size_image))\n",
    "            labels.append(idx)\n",
    "        except AttributeError:\n",
    "            print(os.path.join(path, img) + \" is not an image\")\n",
    "            \n",
    "Cells=np.array(data)\n",
    "labels=np.array(labels)\n",
    "\n",
    "#Randomize the order of the input images\n",
    "s=np.arange(Cells.shape[0])\n",
    "np.random.seed(43)\n",
    "np.random.shuffle(s)\n",
    "Cells=Cells[s]\n",
    "labels=labels[s]"
   ]
  },
  {
   "attachments": {},
   "cell_type": "markdown",
   "id": "af43c6c5",
   "metadata": {},
   "source": [
    "## Processing and Corruption"
   ]
  },
  {
   "cell_type": "code",
   "execution_count": 8,
   "id": "24883269-8b22-4441-af03-555f9fd1803d",
   "metadata": {},
   "outputs": [],
   "source": [
    "X_train_init, X_val_init, y_train_init, y_val_init = train_test_split(Cells, labels, test_size=0.40, random_state=42, stratify=labels)\n",
    "X_val_init, X_test_init, y_val_init, y_test_init = train_test_split(X_val_init, y_val_init, test_size=0.7, random_state=42, stratify=y_val_init)"
   ]
  },
  {
   "cell_type": "code",
   "execution_count": 9,
   "id": "a7602446-3fc6-422a-8038-b022ac710f65",
   "metadata": {},
   "outputs": [],
   "source": [
    "X_train = X_train_init.astype('float32')/255 \n",
    "X_val = X_val_init.astype('float32')/255\n",
    "X_test = X_test_init.astype('float32')/255 #all will be normalized, but corrupted images will be overwritten"
   ]
  },
  {
   "cell_type": "code",
   "execution_count": 10,
   "id": "2840a79a-96ec-4ae8-915b-99bbb1802793",
   "metadata": {},
   "outputs": [
    {
     "name": "stderr",
     "output_type": "stream",
     "text": [
      "100%|████████████████████████████████████████████████████████████████████████████████████| 2/2 [00:28<00:00, 14.37s/it]\n"
     ]
    }
   ],
   "source": [
    "#select a random 50% fo the test data indecies to be corrupted\n",
    "corruption_id = np.random.choice(X_test.shape[0], size = math.ceil(0.5 *X_test.shape[0]), replace=False)\n",
    "\n",
    "# in percentages, 0-75 frost, 25-100 fog with 25-50 overlap\n",
    "first_corruption = corruption_id[:math.ceil(0.75*len(corruption_id))]\n",
    "second_corruption = corruption_id[math.ceil(0.25*len(corruption_id)):]\n",
    "\n",
    "corr_type = ['frost', 'fog']\n",
    "X_test_corrupted = copy.deepcopy(X_test) #copy to override\n",
    "\n",
    "for batch in tqdm(corr_type):\n",
    "    idx_list = first_corruption if batch == 0 else second_corruption\n",
    "    for i in idx_list:\n",
    "    \n",
    "            \n",
    "        image = X_test_init[i,:]\n",
    "        image = (corrupt(np.array(image), corruption_name=batch, severity=5)).astype('float32')/255\n",
    "\n",
    "        X_test_corrupted[i,:] = image.astype('float32')/255 #normalize\n",
    "            "
   ]
  },
  {
   "cell_type": "code",
   "execution_count": 19,
   "id": "4bfd6ace-88d1-4fe2-ad42-c390ba94be3a",
   "metadata": {},
   "outputs": [
    {
     "name": "stdout",
     "output_type": "stream",
     "text": [
      "(22555, 32, 32, 3) (10526, 32, 32, 3) (4511, 32, 32, 3)\n"
     ]
    }
   ],
   "source": [
    "print(X_train.shape, X_test_corrupted.shape, X_val.shape)"
   ]
  },
  {
   "cell_type": "code",
   "execution_count": 20,
   "id": "af0ca544-d5e4-4750-b6c4-297c51c18a50",
   "metadata": {},
   "outputs": [],
   "source": [
    "#Flattening training and testing data \n",
    "\n",
    "X_train_f = X_train.flatten().reshape((22555, 32*32*3))\n",
    "X_test_f = X_test_corrupted.flatten().reshape((10526, 32*32*3))"
   ]
  },
  {
   "attachments": {},
   "cell_type": "markdown",
   "id": "361522b8",
   "metadata": {},
   "source": [
    "## Build Model"
   ]
  },
  {
   "cell_type": "code",
   "execution_count": 21,
   "id": "56a0e7c1-79ff-442c-8139-13b39562c39c",
   "metadata": {},
   "outputs": [],
   "source": [
    "pipeSVM = Pipeline([('scaler', StandardScaler()),\n",
    "                 ('SVM', SVC(C=10, gamma=0.001, kernel=\"rbf\"))])"
   ]
  },
  {
   "cell_type": "code",
   "execution_count": 24,
   "id": "662b027f-3120-4059-bf42-eaa9d92b21e1",
   "metadata": {},
   "outputs": [
    {
     "data": {
      "text/plain": [
       "Pipeline(steps=[('scaler', StandardScaler()), ('SVM', SVC(C=10, gamma=0.001))])"
      ]
     },
     "execution_count": 24,
     "metadata": {},
     "output_type": "execute_result"
    }
   ],
   "source": [
    "pipeSVM.fit(X_train_f, y_train_init)"
   ]
  },
  {
   "cell_type": "code",
   "execution_count": 25,
   "id": "16129dfe-05b8-43d7-a075-1abda8de50aa",
   "metadata": {},
   "outputs": [],
   "source": [
    "y_pred = pipeSVM.predict(X_test_f)"
   ]
  },
  {
   "cell_type": "code",
   "execution_count": null,
   "id": "930ee984-625b-4ec3-b8e6-a174eb7e331d",
   "metadata": {},
   "outputs": [],
   "source": []
  },
  {
   "cell_type": "code",
   "execution_count": 27,
   "id": "1543963c-6e5f-4cba-b15e-40d295bc34d2",
   "metadata": {},
   "outputs": [
    {
     "name": "stdout",
     "output_type": "stream",
     "text": [
      "[0. 1. 1. ... 1. 1. 0.]\n"
     ]
    }
   ],
   "source": [
    "mask = np.zeros(len(y_pred))\n",
    "for idx, yp in enumerate(y_pred):\n",
    "    mask[idx] = yp == y_test_init[idx]\n",
    "    \n",
    "print(mask)"
   ]
  },
  {
   "cell_type": "code",
   "execution_count": 28,
   "id": "c3b16530-fa5d-417b-a4f1-05bbef975f06",
   "metadata": {},
   "outputs": [
    {
     "name": "stdout",
     "output_type": "stream",
     "text": [
      "4281.0\n"
     ]
    }
   ],
   "source": [
    "print(len(mask) - mask.sum() )"
   ]
  },
  {
   "attachments": {},
   "cell_type": "markdown",
   "id": "1df256f8",
   "metadata": {},
   "source": [
    "## SafeML Implementation"
   ]
  },
  {
   "cell_type": "code",
   "execution_count": 35,
   "id": "986b0b55-e7aa-4519-9726-8c0250a2fcd0",
   "metadata": {},
   "outputs": [],
   "source": [
    "def get_statistical_distance(train_set, test_set):\n",
    "    #return statistical distance measures\n",
    "    if (train_set.shape[1] != test_set.shape[1]):\n",
    "        print(f\"input features are not compatible. input one size {train_set.shape[1]} does not match input two size {test_set.shape[1]}\")\n",
    "        return None\n",
    "    else:\n",
    "        df_features = train_set.shape[1]\n",
    "        \n",
    "    df_features = train_set.shape[1]\n",
    "\n",
    "    Anderson_Darling_distances = np.zeros(df_features)\n",
    "    Kolmogorov_Smirnov_distances = np.zeros(df_features)\n",
    "\n",
    "    ss_Anderson_Darling_distances = np.zeros(df_features)\n",
    "    ss_Kolmogorov_Smirnov_distances = np.zeros(df_features)\n",
    "\n",
    "    for i in range(df_features):\n",
    "\n",
    "        pVal_ad, ad_res = AD_p(train_set[:, i], test_set[:, i])\n",
    "        ss_Anderson_Darling_distances[i] = ad_res if (pVal_ad < 0.05) else np.nan\n",
    "        #Anderson_Darling_distances[i] = ad_res\n",
    "        \n",
    "        pVal_ks, ks_res = KS_p(train_set[:, i], test_set[:, i])\n",
    "        ss_Kolmogorov_Smirnov_distances[i] = ks_res if (pVal_ks < 0.05) else np.nan\n",
    "\n",
    "\n",
    "    Anderson_Darling_distance = (np.nanmean(ss_Anderson_Darling_distances, dtype=np.float64),\n",
    "                                 np.nanstd(ss_Anderson_Darling_distances, dtype=np.float64))\n",
    "    Kolmogorov_Smirnov_distance = (np.nanmean(ss_Kolmogorov_Smirnov_distances, dtype=np.float64),\n",
    "                                   np.nanstd(ss_Kolmogorov_Smirnov_distances, dtype=np.float64))\n",
    "\n",
    "    \n",
    "    return {\n",
    "            'Anderson_Darling_dist': Anderson_Darling_distance,\n",
    "            'Kolmogorov_Smirnov_dist':Kolmogorov_Smirnov_distance\n",
    "           }"
   ]
  },
  {
   "cell_type": "code",
   "execution_count": 32,
   "id": "7943eec2-4320-49b0-8532-d6bf457a71fa",
   "metadata": {},
   "outputs": [
    {
     "name": "stdout",
     "output_type": "stream",
     "text": [
      "(6245, 3072) (4281, 3072)\n"
     ]
    }
   ],
   "source": [
    "train_samplespace = X_train_f\n",
    "test_correct = X_test_f[mask == 1]\n",
    "test_incorrect = X_test_f[mask ==0]\n",
    "\n",
    "print(test_correct.shape, test_incorrect.shape)"
   ]
  },
  {
   "attachments": {},
   "cell_type": "markdown",
   "id": "45f164f5",
   "metadata": {},
   "source": [
    "### Measure SDD using the flattened pixels"
   ]
  },
  {
   "cell_type": "code",
   "execution_count": 81,
   "id": "019f9387-3525-4f33-9525-c7e35aa0f40d",
   "metadata": {},
   "outputs": [
    {
     "name": "stderr",
     "output_type": "stream",
     "text": [
      "20it [59:45, 179.29s/it]\n"
     ]
    }
   ],
   "source": [
    "val_range = range(5, 101, 5)\n",
    "crit_vals = np.zeros((2, len(val_range)))\n",
    "\n",
    "correct_dist = np.zeros((2, len(val_range)))\n",
    "incorrect_dist = np.zeros((2, len(val_range)))\n",
    "\n",
    "for idx, smp_n in tqdm(enumerate(val_range)):\n",
    "    \n",
    "    crit_vals[0, idx] = AD_crit(0.1, smp_n, smp_n)\n",
    "    crit_vals[1, idx] = KS_crit(0.1, smp_n, smp_n)\n",
    "    \n",
    "    \n",
    "    idx_train = np.random.choice(train_samplespace.shape[0], smp_n, replace=False)\n",
    "    idx_correct = np.random.choice(test_correct.shape[0], smp_n, replace=False)\n",
    "    idx_incorrect = np.random.choice(test_incorrect.shape[0], smp_n, replace=False)\n",
    "\n",
    "    correct = get_statistical_distance(train_samplespace[idx_train, :32*32], test_correct[idx_correct, :32*32])\n",
    "    incorrect = get_statistical_distance(train_samplespace[idx_train, :32*32], np.concatenate((test_incorrect[idx_incorrect[:int(smp_n*0.32)], :32*32],\n",
    "                                                                                            test_correct[idx_correct[int(smp_n*0.32):], :32*32])))\n",
    "    \n",
    "    for dist_idx, dist_name in enumerate(['Anderson_Darling_dist', 'Kolmogorov_Smirnov_dist']):\n",
    "        correct_dist[dist_idx, idx] = correct[dist_name][0]\n",
    "        incorrect_dist[dist_idx, idx] = incorrect[dist_name][0]\n"
   ]
  },
  {
   "cell_type": "code",
   "execution_count": 82,
   "id": "e50ba11f-0eba-48d7-bea8-deccdba64518",
   "metadata": {},
   "outputs": [],
   "source": [
    "def nan_helper(y):\n",
    "    return np.isnan(y), lambda z: z.nonzero()[0]"
   ]
  },
  {
   "cell_type": "code",
   "execution_count": 84,
   "id": "238a720a-4dcc-472a-b687-55d2184bbcef",
   "metadata": {},
   "outputs": [
    {
     "data": {
      "image/png": "[encoded data removed]",
      "text/plain": [
       "<Figure size 1296x504 with 2 Axes>"
      ]
     },
     "metadata": {
      "needs_background": "light"
     },
     "output_type": "display_data"
    }
   ],
   "source": [
    "column_names=[\n",
    "                \"Anderson Darling\",\n",
    "                \"Kolmogorov Smirnov\",\n",
    "\n",
    "            ]\n",
    "\n",
    "fig=plt.figure(figsize=[18,7])\n",
    "columns = 2\n",
    "rows = 1\n",
    "#for factor in range(15):\n",
    "    #correct_meas, incorrect_meas = to_numpy(lst_correct_list[factor], lst_correct_list[factor])\n",
    "fig.suptitle('SDD using Pixels as Features', fontsize=16)\n",
    "for i in range(1, 3):\n",
    "    plt.subplot(rows, columns, i)\n",
    "    y1, y2 = correct_dist[i-1,:], incorrect_dist[i-1,:]\n",
    "    #print(y1, y2)\n",
    "    nans, x= nan_helper(y1)\n",
    "    if (nans.sum()):\n",
    "        y1[nans]= np.interp(x(nans), x(~nans), y1[~nans])\n",
    "\n",
    "    plt.plot(y1, 'b')\n",
    "    plt.plot(y2, 'r')\n",
    "    plt.plot(crit_vals[i-1,:], )\n",
    "    plt.xticks(range(20), range(5, 101, 5), rotation = 45)\n",
    "    title_str = \"Mean distance \" + column_names[i-1]\n",
    "    plt.title(title_str)\n",
    "    plt.legend([\"Correct\", \"Incorrect\", \"Critical Value\"], loc = 1)\n",
    "    plt.ylabel(\"SDD\")\n",
    "    plt.xlabel(\"# Samples\")\n",
    "plt.show()"
   ]
  },
  {
   "cell_type": "code",
   "execution_count": null,
   "id": "19460cbc-76a4-4d98-a929-a9e1fa1c5546",
   "metadata": {},
   "outputs": [],
   "source": []
  }
 ],
 "metadata": {
  "kernelspec": {
   "display_name": "Python 3",
   "language": "python",
   "name": "python3"
  },
  "language_info": {
   "codemirror_mode": {
    "name": "ipython",
    "version": 3
   },
   "file_extension": ".py",
   "mimetype": "text/x-python",
   "name": "python",
   "nbconvert_exporter": "python",
   "pygments_lexer": "ipython3",
   "version": "3.9.2"
  },
  "vscode": {
   "interpreter": {
    "hash": "db3f524f61def964ea7de912ea3f888ead951ee64fbaa0da99cdf6c396baef1b"
   }
  }
 },
 "nbformat": 4,
 "nbformat_minor": 5
}
