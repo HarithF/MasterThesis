{
 "cells": [
  {
   "cell_type": "code",
   "execution_count": 10,
   "id": "b4ca72d8-ffb3-4a8a-ab8d-dd0d4eea7727",
   "metadata": {},
   "outputs": [],
   "source": [
    "import numpy as np \n",
    "import pandas as pd \n",
    "import matplotlib.pyplot as plt\n",
    "import tensorflow as tf\n",
    "import cv2\n",
    "from sklearn.model_selection import train_test_split\n",
    "from sklearn.metrics import classification_report, confusion_matrix\n",
    "import math\n",
    "from tqdm import tqdm\n",
    "\n",
    "from PIL import Image\n",
    "import os\n",
    "import copy\n",
    "from imagecorruptions import corrupt"
   ]
  },
  {
   "cell_type": "code",
   "execution_count": 2,
   "id": "4cab540e-c2a3-4d4f-85f6-1128f993f28a",
   "metadata": {},
   "outputs": [],
   "source": [
    "import tensorflow as tf\n",
    "from tensorflow import keras\n",
    "from keras import layers\n",
    "from keras.models import Model, Sequential\n",
    "from keras.layers import Dense, Dropout, Conv2D, MaxPooling2D, Flatten\n",
    "from sklearn.preprocessing import StandardScaler\n"
   ]
  },
  {
   "cell_type": "code",
   "execution_count": 3,
   "id": "22575142-5a39-45e0-8530-cf8654adee7a",
   "metadata": {},
   "outputs": [],
   "source": [
    "from sklearn.decomposition import PCA"
   ]
  },
  {
   "cell_type": "code",
   "execution_count": 4,
   "id": "4f6200c3-77ad-48af-85ab-a78045dc5908",
   "metadata": {},
   "outputs": [],
   "source": [
    "os.chdir(\"..\")\n",
    "from safeml.DistanceMetricsParallel import Anderson_Darling_Dist_PVal as AD_p\n",
    "from safeml.DistanceMetricsParallel import Kolmogorov_Smirnov_Dist_PVal as KS_p\n",
    "#os.chdir(\"..\")"
   ]
  },
  {
   "cell_type": "code",
   "execution_count": 5,
   "id": "5106da97-697d-450a-90d8-c1978a84bbd1",
   "metadata": {},
   "outputs": [
    {
     "name": "stdout",
     "output_type": "stream",
     "text": [
      "Final_Training/Images\\00001\n",
      "Final_Training/Images\\00001\\GT-00001.csv is not an image\n",
      "Final_Training/Images\\00002\n",
      "Final_Training/Images\\00002\\GT-00002.csv is not an image\n",
      "Final_Training/Images\\00003\n",
      "Final_Training/Images\\00003\\GT-00003.csv is not an image\n",
      "Final_Training/Images\\00004\n",
      "Final_Training/Images\\00004\\GT-00004.csv is not an image\n",
      "Final_Training/Images\\00005\n",
      "Final_Training/Images\\00005\\GT-00005.csv is not an image\n",
      "Final_Training/Images\\00006\n",
      "Final_Training/Images\\00006\\GT-00006.csv is not an image\n",
      "Final_Training/Images\\00007\n",
      "Final_Training/Images\\00007\\GT-00007.csv is not an image\n",
      "Final_Training/Images\\00008\n",
      "Final_Training/Images\\00008\\GT-00008.csv is not an image\n",
      "Final_Training/Images\\00009\n",
      "Final_Training/Images\\00009\\GT-00009.csv is not an image\n",
      "Final_Training/Images\\00010\n",
      "Final_Training/Images\\00010\\GT-00010.csv is not an image\n",
      "Final_Training/Images\\00011\n",
      "Final_Training/Images\\00011\\GT-00011.csv is not an image\n",
      "Final_Training/Images\\00012\n",
      "Final_Training/Images\\00012\\GT-00012.csv is not an image\n",
      "Final_Training/Images\\00013\n",
      "Final_Training/Images\\00013\\GT-00013.csv is not an image\n",
      "Final_Training/Images\\00014\n",
      "Final_Training/Images\\00014\\GT-00014.csv is not an image\n",
      "Final_Training/Images\\00015\n",
      "Final_Training/Images\\00015\\GT-00015.csv is not an image\n",
      "Final_Training/Images\\00016\n",
      "Final_Training/Images\\00016\\GT-00016.csv is not an image\n",
      "Final_Training/Images\\00017\n",
      "Final_Training/Images\\00017\\GT-00017.csv is not an image\n",
      "Final_Training/Images\\00018\n",
      "Final_Training/Images\\00018\\GT-00018.csv is not an image\n",
      "Final_Training/Images\\00019\n",
      "Final_Training/Images\\00019\\GT-00019.csv is not an image\n",
      "Final_Training/Images\\00020\n",
      "Final_Training/Images\\00020\\GT-00020.csv is not an image\n",
      "Final_Training/Images\\00021\n",
      "Final_Training/Images\\00021\\GT-00021.csv is not an image\n",
      "Final_Training/Images\\00022\n",
      "Final_Training/Images\\00022\\GT-00022.csv is not an image\n",
      "Final_Training/Images\\00023\n",
      "Final_Training/Images\\00023\\GT-00023.csv is not an image\n",
      "Final_Training/Images\\00024\n",
      "Final_Training/Images\\00024\\GT-00024.csv is not an image\n",
      "Final_Training/Images\\00025\n",
      "Final_Training/Images\\00025\\GT-00025.csv is not an image\n",
      "Final_Training/Images\\00026\n",
      "Final_Training/Images\\00026\\GT-00026.csv is not an image\n",
      "Final_Training/Images\\00027\n",
      "Final_Training/Images\\00027\\GT-00027.csv is not an image\n",
      "Final_Training/Images\\00028\n",
      "Final_Training/Images\\00028\\GT-00028.csv is not an image\n",
      "Final_Training/Images\\00029\n",
      "Final_Training/Images\\00029\\GT-00029.csv is not an image\n",
      "Final_Training/Images\\00030\n",
      "Final_Training/Images\\00030\\GT-00030.csv is not an image\n",
      "Final_Training/Images\\00031\n",
      "Final_Training/Images\\00031\\GT-00031.csv is not an image\n",
      "Final_Training/Images\\00032\n",
      "Final_Training/Images\\00032\\GT-00032.csv is not an image\n",
      "Final_Training/Images\\00033\n",
      "Final_Training/Images\\00033\\GT-00033.csv is not an image\n",
      "Final_Training/Images\\00034\n",
      "Final_Training/Images\\00034\\GT-00034.csv is not an image\n",
      "Final_Training/Images\\00035\n",
      "Final_Training/Images\\00035\\GT-00035.csv is not an image\n",
      "Final_Training/Images\\00036\n",
      "Final_Training/Images\\00036\\GT-00036.csv is not an image\n",
      "Final_Training/Images\\00037\n",
      "Final_Training/Images\\00037\\GT-00037.csv is not an image\n",
      "Final_Training/Images\\00038\n",
      "Final_Training/Images\\00038\\GT-00038.csv is not an image\n",
      "Final_Training/Images\\00039\n",
      "Final_Training/Images\\00039\\GT-00039.csv is not an image\n",
      "Final_Training/Images\\00040\n",
      "Final_Training/Images\\00040\\GT-00040.csv is not an image\n",
      "Final_Training/Images\\00041\n",
      "Final_Training/Images\\00041\\GT-00041.csv is not an image\n",
      "Final_Training/Images\\00042\n",
      "Final_Training/Images\\00042\\GT-00042.csv is not an image\n"
     ]
    }
   ],
   "source": [
    "# Reading the input images and putting them into a numpy array\n",
    "data=[]\n",
    "labels=[]\n",
    "\n",
    "height = 32\n",
    "width = 32\n",
    "channels = 3\n",
    "\n",
    "n_inputs = height * width*channels\n",
    "\n",
    "ClassFolders = os.listdir(\"Final_Training/Images\")\n",
    "classes = len(ClassFolders)\n",
    "\n",
    "for idx, fileName in enumerate(ClassFolders) :\n",
    "    path = os.path.join(\"Final_Training/Images\", fileName)\n",
    "    #path = \"C:/cmder/Python_Tests/GTSRB/Train/{0}/\".format(i)\n",
    "    print(path)\n",
    "    classImges = os.listdir(path)\n",
    "    for img in classImges:\n",
    "        try:\n",
    "            image=cv2.imread(os.path.join(path, img))\n",
    "            image_from_array = Image.fromarray(image, 'RGB')\n",
    "            size_image = image_from_array.resize((height, width))\n",
    "            data.append(np.array(size_image))\n",
    "            labels.append(idx)\n",
    "        except AttributeError:\n",
    "            print(os.path.join(path, img) + \" is not an image\")\n",
    "            \n",
    "Cells=np.array(data)\n",
    "labels=np.array(labels)\n",
    "\n",
    "#Randomize the order of the input images\n",
    "s=np.arange(Cells.shape[0])\n",
    "np.random.seed(43)\n",
    "np.random.shuffle(s)\n",
    "Cells=Cells[s]\n",
    "labels=labels[s]"
   ]
  },
  {
   "cell_type": "code",
   "execution_count": 6,
   "id": "009162e4-03a1-4555-a87f-5f604f99084d",
   "metadata": {},
   "outputs": [],
   "source": [
    "X_train_init, X_val_init, y_train_init, y_val_init = train_test_split(Cells, labels, test_size=0.40, random_state=42, stratify=labels)\n",
    "X_val_init, X_test_init, y_val_init, y_test_init = train_test_split(X_val_init, y_val_init, test_size=0.7, random_state=42, stratify=y_val_init)\n"
   ]
  },
  {
   "cell_type": "code",
   "execution_count": 7,
   "id": "7c58a6e0-a01a-44e2-9738-53ccf2da292c",
   "metadata": {},
   "outputs": [],
   "source": [
    "X_train = X_train_init.astype('float32')/255 \n",
    "X_val = X_val_init.astype('float32')/255\n",
    "X_test = X_test_init.astype('float32')/255 #all will be normalized, but corrupted images will be overwritten"
   ]
  },
  {
   "cell_type": "code",
   "execution_count": 8,
   "id": "0894f4b9-f0b7-4529-8d07-b72b1c01c378",
   "metadata": {},
   "outputs": [
    {
     "name": "stdout",
     "output_type": "stream",
     "text": [
      "(22555, 32, 32, 3) (4511, 32, 32, 3) (10526, 32, 32, 3)\n",
      "(22555,) (4511,) (10526,)\n"
     ]
    }
   ],
   "source": [
    "print(X_train.shape, X_val.shape, X_test.shape)\n",
    "print(y_train_init.shape, y_val_init.shape, y_test_init.shape)"
   ]
  },
  {
   "cell_type": "code",
   "execution_count": 11,
   "id": "027de486-03c4-4e06-9d5f-90373fead4c7",
   "metadata": {},
   "outputs": [
    {
     "name": "stderr",
     "output_type": "stream",
     "text": [
      "100%|████████████████████████████████████████████████████████████████████████████████████| 2/2 [00:28<00:00, 14.17s/it]\n"
     ]
    }
   ],
   "source": [
    "#select a random 50% fo the test data indecies to be corrupted\n",
    "corruption_id = np.random.choice(X_test.shape[0], size = math.ceil(0.5 *X_test.shape[0]), replace=False)\n",
    "\n",
    "# in percentages, 0-75 frost, 25-100 fog with 25-50 overlap\n",
    "first_corruption = corruption_id[:math.ceil(0.75*len(corruption_id))]\n",
    "second_corruption = corruption_id[math.ceil(0.25*len(corruption_id)):]\n",
    "\n",
    "corr_type = ['frost', 'fog']\n",
    "X_test_corrupted = copy.deepcopy(X_test) #copy to override\n",
    "\n",
    "for batch in tqdm(corr_type):\n",
    "    idx_list = first_corruption if batch == 0 else second_corruption\n",
    "    for i in idx_list:\n",
    "    \n",
    "            \n",
    "        image = X_test_init[i,:]\n",
    "        image = (corrupt(np.array(image), corruption_name=batch, severity=5)).astype('float32')/255\n",
    "\n",
    "        X_test_corrupted[i,:] = image.astype('float32')/255 #normalize\n",
    "            "
   ]
  },
  {
   "cell_type": "code",
   "execution_count": 12,
   "id": "abdf850c-77ef-4b6e-9d3a-1cb813dbdaa4",
   "metadata": {},
   "outputs": [],
   "source": [
    "y_train = keras.utils.to_categorical(y_train_init, classes)\n",
    "y_val = keras.utils.to_categorical(y_val_init, classes)\n",
    "y_test = keras.utils.to_categorical(y_test_init, classes)"
   ]
  },
  {
   "cell_type": "code",
   "execution_count": 13,
   "id": "8aea60af-9ff2-47d8-aa14-9ec797bf142f",
   "metadata": {},
   "outputs": [
    {
     "name": "stdout",
     "output_type": "stream",
     "text": [
      "(22555, 32, 32, 3) (4511, 32, 32, 3) (10526, 32, 32, 3)\n",
      "(22555, 42) (4511, 42) (10526, 42)\n"
     ]
    }
   ],
   "source": [
    "print(X_train.shape, X_val.shape, X_test.shape)\n",
    "print(y_train.shape, y_val.shape, y_test.shape)"
   ]
  },
  {
   "cell_type": "code",
   "execution_count": 14,
   "id": "ac6477f8-f582-45d8-96f5-8c69364db27a",
   "metadata": {},
   "outputs": [],
   "source": [
    "def build_model(input_shape, num_features, num_labels):\n",
    "\n",
    "    model = Sequential()\n",
    "    model.add(Conv2D(filters=32, kernel_size=(5,5), activation='relu', input_shape=X_train.shape[1:]))\n",
    "    model.add(Conv2D(filters=64, kernel_size=(3, 3), activation='relu'))\n",
    "    model.add(MaxPooling2D(pool_size=(2, 2)))\n",
    "    \n",
    "    model.add(Dropout(rate=0.25))\n",
    "    model.add(Conv2D(filters=64, kernel_size=(3, 3), activation='relu'))\n",
    "    model.add(MaxPooling2D(pool_size=(2, 2)))\n",
    "    \n",
    "    model.add(Dropout(rate=0.25))\n",
    "    model.add(Flatten())\n",
    "    \n",
    "    model.add(Dense(256, activation='relu'))\n",
    "    model.add(Dropout(rate=0.5))\n",
    "    \n",
    "    model.add(Dense(num_features, activation='relu'))\n",
    "    model.add(Dense(num_labels, activation='softmax'))\n",
    "\n",
    "    return model\n",
    "\n",
    "def compile_model(model, lr, loss='categorical_crossentropy', optimizer='adam', acc_metric = \"accuracy\"):\n",
    "    \n",
    "    optimizer = tf.keras.optimizers.Adam(learning_rate=lr) \n",
    "    model.compile(loss=loss, optimizer=optimizer, metrics=[acc_metric])\n",
    "    \n",
    "    return model"
   ]
  },
  {
   "cell_type": "code",
   "execution_count": 15,
   "id": "34ffa443-27bd-4eea-8b67-b733d72305b4",
   "metadata": {},
   "outputs": [],
   "source": [
    "lr = .001\n",
    "max_epochs = 50\n",
    "patience = 3\n",
    "batch_size = 128\n",
    "input_shape = X_train.shape[1:]\n",
    "num_features = 100\n",
    "num_labels = classes"
   ]
  },
  {
   "cell_type": "code",
   "execution_count": 16,
   "id": "dd792432-643e-4941-b534-125869a56101",
   "metadata": {},
   "outputs": [
    {
     "name": "stdout",
     "output_type": "stream",
     "text": [
      "Model: \"sequential\"\n",
      "_________________________________________________________________\n",
      " Layer (type)                Output Shape              Param #   \n",
      "=================================================================\n",
      " conv2d (Conv2D)             (None, 26, 26, 32)        2432      \n",
      "                                                                 \n",
      " conv2d_1 (Conv2D)           (None, 24, 24, 64)        18496     \n",
      "                                                                 \n",
      " max_pooling2d (MaxPooling2D  (None, 12, 12, 64)       0         \n",
      " )                                                               \n",
      "                                                                 \n",
      " dropout (Dropout)           (None, 12, 12, 64)        0         \n",
      "                                                                 \n",
      " conv2d_2 (Conv2D)           (None, 10, 10, 64)        36928     \n",
      "                                                                 \n",
      " max_pooling2d_1 (MaxPooling  (None, 5, 5, 64)         0         \n",
      " 2D)                                                             \n",
      "                                                                 \n",
      " dropout_1 (Dropout)         (None, 5, 5, 64)          0         \n",
      "                                                                 \n",
      " flatten (Flatten)           (None, 1600)              0         \n",
      "                                                                 \n",
      " dense (Dense)               (None, 256)               409856    \n",
      "                                                                 \n",
      " dropout_2 (Dropout)         (None, 256)               0         \n",
      "                                                                 \n",
      " dense_1 (Dense)             (None, 100)               25700     \n",
      "                                                                 \n",
      " dense_2 (Dense)             (None, 42)                4242      \n",
      "                                                                 \n",
      "=================================================================\n",
      "Total params: 497,654\n",
      "Trainable params: 497,654\n",
      "Non-trainable params: 0\n",
      "_________________________________________________________________\n",
      "None\n"
     ]
    }
   ],
   "source": [
    "model = build_model(input_shape, num_features, num_labels)\n",
    "model = compile_model(model, lr)\n",
    "print(model.summary())"
   ]
  },
  {
   "cell_type": "code",
   "execution_count": 17,
   "id": "25474c61-27f0-4f61-8c30-372fc45a93f3",
   "metadata": {},
   "outputs": [
    {
     "name": "stdout",
     "output_type": "stream",
     "text": [
      "Epoch 1/50\n",
      "202/202 [==============================] - 20s 96ms/step - loss: 2.0265 - accuracy: 0.4326 - val_loss: 0.5694 - val_accuracy: 0.8193\n",
      "Epoch 2/50\n",
      "202/202 [==============================] - 19s 95ms/step - loss: 0.5277 - accuracy: 0.8291 - val_loss: 0.1791 - val_accuracy: 0.9645\n",
      "Epoch 3/50\n",
      "202/202 [==============================] - 19s 96ms/step - loss: 0.2726 - accuracy: 0.9153 - val_loss: 0.0943 - val_accuracy: 0.9775\n",
      "Epoch 4/50\n",
      "202/202 [==============================] - 19s 96ms/step - loss: 0.1816 - accuracy: 0.9425 - val_loss: 0.0668 - val_accuracy: 0.9824\n",
      "Epoch 5/50\n",
      "202/202 [==============================] - 19s 97ms/step - loss: 0.1390 - accuracy: 0.9570 - val_loss: 0.0450 - val_accuracy: 0.9888\n",
      "Epoch 6/50\n",
      "202/202 [==============================] - 19s 96ms/step - loss: 0.1064 - accuracy: 0.9679 - val_loss: 0.0407 - val_accuracy: 0.9891\n",
      "Epoch 7/50\n",
      "202/202 [==============================] - 19s 96ms/step - loss: 0.0917 - accuracy: 0.9716 - val_loss: 0.0392 - val_accuracy: 0.9909\n",
      "Epoch 8/50\n",
      "202/202 [==============================] - 19s 96ms/step - loss: 0.0825 - accuracy: 0.9740 - val_loss: 0.0305 - val_accuracy: 0.9938\n",
      "Epoch 9/50\n",
      "202/202 [==============================] - 19s 96ms/step - loss: 0.0636 - accuracy: 0.9806 - val_loss: 0.0278 - val_accuracy: 0.9938\n",
      "Epoch 10/50\n",
      "202/202 [==============================] - 19s 96ms/step - loss: 0.0602 - accuracy: 0.9816 - val_loss: 0.0257 - val_accuracy: 0.9938\n",
      "Epoch 11/50\n",
      "202/202 [==============================] - 19s 96ms/step - loss: 0.0538 - accuracy: 0.9834 - val_loss: 0.0252 - val_accuracy: 0.9935\n",
      "Epoch 12/50\n",
      "202/202 [==============================] - 19s 96ms/step - loss: 0.0505 - accuracy: 0.9847 - val_loss: 0.0242 - val_accuracy: 0.9947\n",
      "Epoch 13/50\n",
      "202/202 [==============================] - 19s 96ms/step - loss: 0.0403 - accuracy: 0.9879 - val_loss: 0.0298 - val_accuracy: 0.9935\n",
      "Epoch 14/50\n",
      "202/202 [==============================] - 19s 96ms/step - loss: 0.0413 - accuracy: 0.9872 - val_loss: 0.0268 - val_accuracy: 0.9944\n",
      "Epoch 15/50\n",
      "202/202 [==============================] - 19s 96ms/step - loss: 0.0388 - accuracy: 0.9873 - val_loss: 0.0231 - val_accuracy: 0.9955\n",
      "Epoch 16/50\n",
      "202/202 [==============================] - 19s 96ms/step - loss: 0.0442 - accuracy: 0.9857 - val_loss: 0.0221 - val_accuracy: 0.9955\n",
      "Epoch 17/50\n",
      "202/202 [==============================] - 19s 96ms/step - loss: 0.0364 - accuracy: 0.9887 - val_loss: 0.0202 - val_accuracy: 0.9955\n",
      "Epoch 18/50\n",
      "202/202 [==============================] - 19s 96ms/step - loss: 0.0291 - accuracy: 0.9907 - val_loss: 0.0330 - val_accuracy: 0.9949\n",
      "Epoch 19/50\n",
      "202/202 [==============================] - 19s 96ms/step - loss: 0.0385 - accuracy: 0.9887 - val_loss: 0.0226 - val_accuracy: 0.9944\n",
      "Epoch 20/50\n",
      "202/202 [==============================] - 19s 96ms/step - loss: 0.0263 - accuracy: 0.9920 - val_loss: 0.0205 - val_accuracy: 0.9962\n"
     ]
    }
   ],
   "source": [
    "callback = tf.keras.callbacks.EarlyStopping(monitor='val_loss', patience=patience, restore_best_weights=True)                    \n",
    "history = model.fit(X_train, y_train, epochs=max_epochs, batch_size=batch_size, validation_data=(X_val, y_val),\n",
    "                            shuffle=False, callbacks=[callback])"
   ]
  },
  {
   "cell_type": "code",
   "execution_count": 18,
   "id": "6888a317-05a2-4d1d-a75d-0aafb306c2f6",
   "metadata": {},
   "outputs": [
    {
     "name": "stdout",
     "output_type": "stream",
     "text": [
      "329/329 [==============================] - 3s 9ms/step - loss: 1.4049 - accuracy: 0.6440\n",
      "[1.40494704246521, 0.6440243124961853]\n"
     ]
    }
   ],
   "source": [
    "accr = model.evaluate(X_test_corrupted, y_test)\n",
    "print(accr)"
   ]
  },
  {
   "cell_type": "code",
   "execution_count": 19,
   "id": "792e1bbb-4baa-42ef-a338-16b735bcdcb5",
   "metadata": {},
   "outputs": [
    {
     "name": "stdout",
     "output_type": "stream",
     "text": [
      "329/329 [==============================] - 3s 8ms/step\n"
     ]
    }
   ],
   "source": [
    "y_pred = np.argmax(model.predict(X_test_corrupted), 1)\n",
    "y_real = np.argmax(y_test, 1)"
   ]
  },
  {
   "cell_type": "markdown",
   "id": "3b13a9e4-f1ce-4579-958c-6ea67733f364",
   "metadata": {},
   "source": [
    "# Distance"
   ]
  },
  {
   "cell_type": "code",
   "execution_count": 51,
   "id": "e94601ba-06af-4ecc-aabd-c5ca6173bebb",
   "metadata": {},
   "outputs": [],
   "source": [
    "def get_statistical_distance(train_set, test_set):\n",
    "    #return statistical distance measures\n",
    "    if (train_set.shape[1] != test_set.shape[1]):\n",
    "        print(f\"input features are not compatible. input one size {train_set.shape[1]} does not match input two size {test_set.shape[1]}\")\n",
    "        return None\n",
    "    else:\n",
    "        df_features = train_set.shape[1]\n",
    "        \n",
    "    df_features = train_set.shape[1]\n",
    "\n",
    "    Anderson_Darling_distances = np.zeros(df_features)\n",
    "    Kolmogorov_Smirnov_distances = np.zeros(df_features)\n",
    "\n",
    "    ss_Anderson_Darling_distances = np.zeros(df_features)\n",
    "    ss_Kolmogorov_Smirnov_distances = np.zeros(df_features)\n",
    "\n",
    "    for i in range(df_features):\n",
    "        \n",
    "        pVal_ad, ad_res = AD_p(train_set[:, i], test_set[:, i])\n",
    "        ss_Anderson_Darling_distances[i] = ad_res if (pVal_ad < 0.05) else np.nan\n",
    "        \n",
    "        pVal_ks, ks_res = KS_p(train_set[:, i], test_set[:, i])\n",
    "        ss_Kolmogorov_Smirnov_distances[i] = ks_res if (pVal_ks < 0.05) else np.nan\n",
    "        \n",
    "    \n",
    "    Anderson_Darling_distance = (np.nanmean(ss_Anderson_Darling_distances, dtype=np.float64),\n",
    "                                 np.nanstd(ss_Anderson_Darling_distances, dtype=np.float64))\n",
    "    Kolmogorov_Smirnov_distance = (np.nanmean(ss_Kolmogorov_Smirnov_distances, dtype=np.float64),\n",
    "                                   np.nanstd(ss_Kolmogorov_Smirnov_distances, dtype=np.float64))\n",
    " \n",
    "    return {\n",
    "            'Anderson_Darling_dist': Anderson_Darling_distance,\n",
    "            'Kolmogorov_Smirnov_dist':Kolmogorov_Smirnov_distance\n",
    "           }"
   ]
  },
  {
   "cell_type": "code",
   "execution_count": 22,
   "id": "a99d651f-c797-43a0-852f-ade285e5127a",
   "metadata": {},
   "outputs": [],
   "source": [
    "def KS_crit(alpha, n, m):\n",
    "    \"\"\"calculates scaled the critical distance value at which hypothesis test is rejected for two samples testing\n",
    "    with arrays of different sizes Kolmogrov Sirminov test.\n",
    "    \n",
    "    Args:\n",
    "        alpha (float): confidance level of the hypothesis test\n",
    "        n (int): size of array 1\n",
    "        m (int): size of array 2\n",
    "        \n",
    "    Returns:\n",
    "        (flaot): critical value c(a)\"\"\"\n",
    "    \n",
    "    c = math.sqrt((-1 * math.log(alpha/2)) * 0.5)\n",
    "    scale = math.sqrt((n+m)/(n*m))\n",
    "\n",
    "    return c*scale"
   ]
  },
  {
   "cell_type": "code",
   "execution_count": 23,
   "id": "5906879c-6159-4c06-a1b6-f61da6ee8c45",
   "metadata": {},
   "outputs": [],
   "source": [
    "vals = pd.read_csv(\"C:/Users/harit/Documents/Fraunhofer/AD_crit.csv\", index_col=0)\n",
    "\n",
    "def AD_crit(alpha, n, m, trails = None):\n",
    "    \"\"\"calculates scaled the critical distance value at which hypothesis test is rejected for two samples testing\n",
    "    with arrays of different sizes for Anderson Darling test.\n",
    "    \n",
    "    Args:\n",
    "        alpha (float): confidance level of the hypothesis test\n",
    "        n (int): size of array 1\n",
    "        m (int): size of array 2\n",
    "        \n",
    "    Returns:\n",
    "        (flaot): critical value c(a)\"\"\"\n",
    "    k = n + m\n",
    "    ad_infDict = {.15:1.610, .1: 1.9335, .05:2.4921, .01:3.857}\n",
    "    #print(ad_infDict[alpha])\n",
    "    if (trails is not None):\n",
    "        #vals = pd.read_csv(\"C:/Users/harit/Documents/Fraunhofer/AD_crit.csv\", index_col=0)\n",
    "        ad_inf = vals[str(alpha)].loc[trails]\n",
    "    else:\n",
    "        if (alpha not in ad_infDict.keys()):\n",
    "            ad_inf = interpolate_AD_inf(alpha)\n",
    "        else:\n",
    "            ad_inf = ad_infDict[alpha]\n",
    "        \n",
    "\n",
    "    c = (ad_inf - 1)*(1 - (1.55/k)) + 1\n",
    "    \n",
    "    return c"
   ]
  },
  {
   "cell_type": "code",
   "execution_count": 24,
   "id": "7c066ca2-fe2b-4da6-82db-8f4577b32bf1",
   "metadata": {},
   "outputs": [
    {
     "name": "stdout",
     "output_type": "stream",
     "text": [
      "[0. 1. 1. ... 0. 0. 1.]\n"
     ]
    }
   ],
   "source": [
    "mask = np.zeros(len(y_pred))\n",
    "for idx, yp in enumerate(y_pred):\n",
    "    mask[idx] = yp == y_real[idx]\n",
    "    \n",
    "print(mask)"
   ]
  },
  {
   "cell_type": "code",
   "execution_count": 25,
   "id": "6fbe42dd-97a9-4570-90ef-3c6f6e98dc16",
   "metadata": {},
   "outputs": [
    {
     "name": "stdout",
     "output_type": "stream",
     "text": [
      "3747.0\n"
     ]
    }
   ],
   "source": [
    "print(len(mask) - mask.sum() )"
   ]
  },
  {
   "cell_type": "code",
   "execution_count": 26,
   "id": "09b33dbf-72da-430c-b878-a6ca87ec4260",
   "metadata": {},
   "outputs": [],
   "source": [
    "def create_filter(model):\n",
    "    \n",
    "    x = model.layers[-2].output\n",
    "    output = Model(inputs = model.input, outputs= x)\n",
    "    \n",
    "    return output"
   ]
  },
  {
   "cell_type": "code",
   "execution_count": 27,
   "id": "ad6df678-16f8-43cf-bf85-ea761f26ec62",
   "metadata": {},
   "outputs": [],
   "source": [
    "filter_model = create_filter(model)"
   ]
  },
  {
   "cell_type": "code",
   "execution_count": 32,
   "id": "0a98a2d4-6a33-48a4-a88b-6dadada298c7",
   "metadata": {},
   "outputs": [
    {
     "name": "stdout",
     "output_type": "stream",
     "text": [
      "705/705 [==============================] - 6s 8ms/step\n",
      "329/329 [==============================] - 3s 8ms/step\n"
     ]
    }
   ],
   "source": [
    "filtered_train = filter_model.predict(X_train)\n",
    "filtered_test = filter_model.predict(X_test_corrupted)"
   ]
  },
  {
   "cell_type": "code",
   "execution_count": 33,
   "id": "3a94ab3b-22f1-472f-81e8-ce851d8e42e8",
   "metadata": {},
   "outputs": [
    {
     "name": "stdout",
     "output_type": "stream",
     "text": [
      "[313.69485  191.80424  154.9346   138.44246  106.84725   99.90351\n",
      "  86.58457   81.33255   73.04969   48.20887   41.880775  33.02903\n",
      "  29.081758  24.65776   20.98061 ]\n"
     ]
    }
   ],
   "source": [
    "pca = PCA(n_components=15)\n",
    "train_components = pca.fit_transform(filtered_train)\n",
    "print(pca.explained_variance_)"
   ]
  },
  {
   "cell_type": "code",
   "execution_count": 34,
   "id": "925e8cb3-c3fc-42f3-911a-088ad44f8662",
   "metadata": {},
   "outputs": [
    {
     "name": "stdout",
     "output_type": "stream",
     "text": [
      "[0.19487132132053375, 0.31402261555194855, 0.41027000546455383, 0.4962722659111023, 0.562647171318531, 0.6247085332870483, 0.6784959957003593, 0.7290208339691162, 0.7744002528488636, 0.8043482303619385, 0.8303651139140129, 0.8508831765502691, 0.8689491432160139, 0.884266865439713]\n"
     ]
    }
   ],
   "source": [
    "explained = pca.explained_variance_ratio_\n",
    "explained = [sum(explained[:x]) for x in range(1,len(explained))]\n",
    "print(explained)"
   ]
  },
  {
   "cell_type": "code",
   "execution_count": 35,
   "id": "1d15e4d5-afe6-4cd8-a47c-2fbf38a9bede",
   "metadata": {},
   "outputs": [],
   "source": [
    "test_components = pca.transform(filtered_test)"
   ]
  },
  {
   "cell_type": "code",
   "execution_count": 37,
   "id": "6111b938-5cbf-47d8-8230-3daeb0d6cbdc",
   "metadata": {},
   "outputs": [
    {
     "name": "stdout",
     "output_type": "stream",
     "text": [
      "(6779, 12) (3747, 12)\n"
     ]
    }
   ],
   "source": [
    "test_correct = test_components[mask == 1, :12]\n",
    "test_incorrect = test_components[mask ==0, :12]\n",
    "\n",
    "print(test_correct.shape, test_incorrect.shape)"
   ]
  },
  {
   "cell_type": "code",
   "execution_count": 38,
   "id": "dc5a6634-fae6-49e8-a317-3e3361a30d71",
   "metadata": {},
   "outputs": [
    {
     "name": "stdout",
     "output_type": "stream",
     "text": [
      "(22555, 12)\n"
     ]
    }
   ],
   "source": [
    "train_samplespace = train_components[:, :12]\n",
    "print(train_samplespace.shape)"
   ]
  },
  {
   "cell_type": "code",
   "execution_count": 41,
   "id": "ce0fd159-bcda-40f7-9e11-23d912b915a7",
   "metadata": {},
   "outputs": [
    {
     "name": "stderr",
     "output_type": "stream",
     "text": [
      "20it [00:45,  2.28s/it]\n"
     ]
    }
   ],
   "source": [
    "val_range = range(5, 101, 5)\n",
    "\n",
    "correct_dist = np.zeros((2, len(val_range)))\n",
    "incorrect_dist = np.zeros((2, len(val_range)))\n",
    "\n",
    "for idx, smp_n in tqdm(enumerate(val_range)):\n",
    "    idx_train = np.random.choice(train_samplespace.shape[0], smp_n, replace=False)\n",
    "    idx_correct = np.random.choice(test_correct.shape[0], smp_n, replace=False)\n",
    "    idx_incorrect = np.random.choice(test_incorrect.shape[0], smp_n, replace=False)\n",
    "\n",
    "    correct = get_statistical_distance(train_samplespace[idx_train], test_correct[idx_correct])\n",
    "    incorrect = get_statistical_distance(train_samplespace[idx_train], test_incorrect[idx_incorrect])\n",
    "    \n",
    "    for dist_idx, dist_name in enumerate(['Anderson_Darling_dist', 'Kolmogorov_Smirnov_dist']):\n",
    "        correct_dist[dist_idx, idx] = correct[dist_name][0]\n",
    "        incorrect_dist[dist_idx, idx] = incorrect[dist_name][0]\n"
   ]
  },
  {
   "cell_type": "code",
   "execution_count": 42,
   "id": "fa03dbaf-1761-46b0-8eb3-8c04aa980416",
   "metadata": {},
   "outputs": [
    {
     "name": "stderr",
     "output_type": "stream",
     "text": [
      "20it [00:00, ?it/s]\n"
     ]
    }
   ],
   "source": [
    "crit_vals = np.zeros((2, len(val_range)))\n",
    "\n",
    "for idx, smp_n in tqdm(enumerate(val_range)):\n",
    "    #cvm_crit_vals[0, idx] = CVM_crit(0.1, smp_n)\n",
    "    crit_vals[0, idx] = AD_crit(0.1, smp_n, smp_n)\n",
    "    crit_vals[1, idx] = KS_crit(0.1, smp_n, smp_n)\n",
    "    "
   ]
  },
  {
   "cell_type": "code",
   "execution_count": 43,
   "id": "bc4f809f-54e3-4869-9760-f728d19cdef3",
   "metadata": {},
   "outputs": [
    {
     "data": {
      "text/plain": [
       "20"
      ]
     },
     "execution_count": 43,
     "metadata": {},
     "output_type": "execute_result"
    }
   ],
   "source": [
    "len(range(5, 101, 5))"
   ]
  },
  {
   "cell_type": "code",
   "execution_count": 44,
   "id": "585d4822-0e52-47cb-a325-9e70d1a516dd",
   "metadata": {},
   "outputs": [],
   "source": [
    "def nan_helper(y):\n",
    "    \"\"\"Helper to handle indices and logical indices of NaNs.\n",
    "\n",
    "    Input:\n",
    "        - y, 1d numpy array with possible NaNs\n",
    "    Output:\n",
    "        - nans, logical indices of NaNs\n",
    "        - index, a function, with signature indices= index(logical_indices),\n",
    "          to convert logical indices of NaNs to 'equivalent' indices\n",
    "    Example:\n",
    "        >>> # linear interpolation of NaNs\n",
    "        >>> nans, x= nan_helper(y)\n",
    "        >>> y[nans]= np.interp(x(nans), x(~nans), y[~nans])\n",
    "    \"\"\"\n",
    "\n",
    "    return np.isnan(y), lambda z: z.nonzero()[0]"
   ]
  },
  {
   "cell_type": "code",
   "execution_count": 49,
   "id": "5f1ba14d-9751-4322-a365-6419c2090ee2",
   "metadata": {
    "tags": []
   },
   "outputs": [
    {
     "data": {
      "image/png": "[encoded data removed]",
      "text/plain": [
       "<Figure size 1008x504 with 2 Axes>"
      ]
     },
     "metadata": {
      "needs_background": "light"
     },
     "output_type": "display_data"
    }
   ],
   "source": [
    "column_names=[\n",
    "                \"Anderson Darling\",\n",
    "                \"Kolmogorov Smirnov\",\n",
    "\n",
    "            ]\n",
    "\n",
    "fig=plt.figure(figsize=[14,7])\n",
    "columns = 2\n",
    "rows = 1\n",
    "#for factor in range(15):\n",
    "    #correct_meas, incorrect_meas = to_numpy(lst_correct_list[factor], lst_correct_list[factor])\n",
    "for i in range(1, 3):\n",
    "    plt.subplot(rows, columns, i)\n",
    "    y1, y2 = correct_dist[i-1,:], incorrect_dist[i-1,:]\n",
    "    #print(y1, y2)\n",
    "    nans, x= nan_helper(y1)\n",
    "    if (nans.sum()):\n",
    "        y1[nans]= np.interp(x(nans), x(~nans), y1[~nans])\n",
    "\n",
    "    plt.plot(y1, 'b')\n",
    "    plt.plot(y2, 'r')\n",
    "    plt.plot(crit_vals[i-1,:], )\n",
    "    plt.xticks(range(20), range(5, 101, 5), rotation = 45)\n",
    "    title_str = \"Mean distance \" + column_names[i-1]\n",
    "    plt.title(title_str)\n",
    "    plt.legend([\"Correct\", \"Incorrect\", \"Critical Value\"], loc = 1)\n",
    "    plt.ylabel(\"Distance\")\n",
    "    plt.xlabel(\"# Samples\")\n",
    "    plt.grid()\n",
    "plt.show()"
   ]
  },
  {
   "cell_type": "markdown",
   "id": "abe80b9f-8ba0-455a-84e8-f858e24ba408",
   "metadata": {},
   "source": [
    "# Bootstrap"
   ]
  },
  {
   "cell_type": "code",
   "execution_count": 52,
   "id": "4bbcaeb1-18b8-4cfc-a493-c992e247f5f4",
   "metadata": {},
   "outputs": [
    {
     "name": "stderr",
     "output_type": "stream",
     "text": [
      "<ipython-input-51-40d706fa38b8>:26: RuntimeWarning: Mean of empty slice\n",
      "  Anderson_Darling_distance = (np.nanmean(ss_Anderson_Darling_distances, dtype=np.float64),\n",
      "c:\\users\\harit\\appdata\\local\\programs\\python\\python39\\lib\\site-packages\\numpy\\lib\\nanfunctions.py:1664: RuntimeWarning: Degrees of freedom <= 0 for slice.\n",
      "  var = nanvar(a, axis=axis, dtype=dtype, out=out, ddof=ddof,\n",
      "<ipython-input-51-40d706fa38b8>:28: RuntimeWarning: Mean of empty slice\n",
      "  Kolmogorov_Smirnov_distance = (np.nanmean(ss_Kolmogorov_Smirnov_distances, dtype=np.float64),\n"
     ]
    },
    {
     "name": "stdout",
     "output_type": "stream",
     "text": [
      "sample idx:  0\n",
      "sample idx:  1\n",
      "sample idx:  2\n",
      "sample idx:  3\n",
      "sample idx:  4\n",
      "sample idx:  5\n",
      "sample idx:  6\n",
      "sample idx:  7\n",
      "sample idx:  8\n",
      "sample idx:  9\n",
      "sample idx:  10\n",
      "sample idx:  11\n",
      "sample idx:  12\n",
      "sample idx:  13\n",
      "sample idx:  14\n",
      "sample idx:  15\n",
      "sample idx:  16\n",
      "sample idx:  17\n",
      "sample idx:  18\n",
      "sample idx:  19\n"
     ]
    }
   ],
   "source": [
    "value_range = range(5, 101, 5)\n",
    "trails = 100\n",
    "alpha = 0.1\n",
    "\n",
    "crit_vals = np.zeros((2, len(value_range)))\n",
    "false_positive = np.zeros((2, len(value_range)))\n",
    "false_negative = np.zeros((2, len(value_range)))\n",
    "\n",
    "\n",
    "for idx, smp_n in (enumerate(value_range)):\n",
    "    crit_vals[0, idx] = AD_crit(0.1, smp_n, smp_n, trails)\n",
    "    crit_vals[1, idx] = KS_crit(0.1/trails, smp_n, smp_n)\n",
    "    \n",
    "    for sim_number in range(trails):\n",
    "        #print(\"sim: \", sim_number)\n",
    "        \n",
    "        idx_train = np.random.choice(train_samplespace.shape[0], smp_n, replace=False)\n",
    "        idx_correct = np.random.choice(test_correct.shape[0], smp_n, replace=False)\n",
    "        idx_incorrect = np.random.choice(test_incorrect.shape[0], smp_n, replace=False)\n",
    "\n",
    "        dist_correct = get_statistical_distance(train_samplespace[idx_train], test_correct[idx_correct])\n",
    "        dist_incorrect = get_statistical_distance(train_samplespace[idx_train], test_incorrect[idx_incorrect])\n",
    "    \n",
    "        for test, col in enumerate([\"Anderson_Darling_dist\", \"Kolmogorov_Smirnov_dist\"]):\n",
    "            \n",
    "            false_positive[test, idx] += 1 if dist_correct[col][0] > crit_vals[test, idx] else 0\n",
    "            false_negative[test, idx] += 1 if dist_incorrect[col][0] < crit_vals[test, idx] else 0\n",
    "    print(\"sample idx: \", idx)\n",
    "\n",
    "            "
   ]
  },
  {
   "cell_type": "code",
   "execution_count": 53,
   "id": "3a8954e0-0abc-4053-9e7e-06299877bdfc",
   "metadata": {},
   "outputs": [],
   "source": [
    "power = (2*trails - false_positive - false_negative)/(2*trails)\n",
    "fnr = false_negative/100"
   ]
  },
  {
   "cell_type": "code",
   "execution_count": 64,
   "id": "e3d2e338-0e6c-4903-908a-e53f29c3c265",
   "metadata": {},
   "outputs": [
    {
     "data": {
      "text/plain": [
       "array([[0.5  , 0.5  , 0.5  , 0.5  , 0.5  , 0.88 , 0.95 , 1.   , 1.   ,\n",
       "        1.   , 1.   , 1.   , 1.   , 1.   , 1.   , 1.   , 1.   , 1.   ,\n",
       "        1.   , 1.   ],\n",
       "       [0.5  , 0.5  , 0.725, 0.8  , 0.85 , 0.875, 0.95 , 1.   , 1.   ,\n",
       "        1.   , 1.   , 1.   , 1.   , 1.   , 1.   , 1.   , 1.   , 1.   ,\n",
       "        1.   , 1.   ]])"
      ]
     },
     "execution_count": 64,
     "metadata": {},
     "output_type": "execute_result"
    }
   ],
   "source": [
    "power"
   ]
  },
  {
   "cell_type": "code",
   "execution_count": 69,
   "id": "83155b41-d270-476c-8de5-df0f6bf56903",
   "metadata": {},
   "outputs": [
    {
     "data": {
      "image/png": "[encoded data removed]",
      "text/plain": [
       "<Figure size 1008x432 with 2 Axes>"
      ]
     },
     "metadata": {
      "needs_background": "light"
     },
     "output_type": "display_data"
    }
   ],
   "source": [
    "fig=plt.figure(figsize=[14,6])\n",
    "columns = 2\n",
    "rows = 1\n",
    "\n",
    "for i in range(2):\n",
    "    plt.subplot(rows, columns, i+1)\n",
    "    y1, y2 = power[i,:], fnr[i,:]\n",
    "    #print(y1, y2)\n",
    "    nans, x= nan_helper(y1)\n",
    "    if (nans.sum()):\n",
    "        y1[nans]= np.interp(x(nans), x(~nans), y1[~nans])\n",
    "\n",
    "    plt.plot(y1)\n",
    "    #plt.plot(y2, 'r')\n",
    "    plt.xticks(range(20), range(5, 101, 5), rotation = 45)\n",
    "    title_str = column_names[i] + \" Power\"\n",
    "    plt.title(title_str)\n",
    "    plt.legend([\"Power\", \"False negative rate\"], loc = 2)\n",
    "    plt.ylabel(\"Percentage of Trial\")\n",
    "    plt.xlabel(\"# Samples\")\n",
    "    \n",
    "plt.show()"
   ]
  }
 ],
 "metadata": {
  "kernelspec": {
   "display_name": "Python 3",
   "language": "python",
   "name": "python3"
  },
  "language_info": {
   "codemirror_mode": {
    "name": "ipython",
    "version": 3
   },
   "file_extension": ".py",
   "mimetype": "text/x-python",
   "name": "python",
   "nbconvert_exporter": "python",
   "pygments_lexer": "ipython3",
   "version": "3.9.2"
  }
 },
 "nbformat": 4,
 "nbformat_minor": 5
}
