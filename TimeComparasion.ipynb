{
 "cells": [
  {
   "cell_type": "markdown",
   "id": "130c326b-e6e2-4019-8d0d-bd0b489c12b4",
   "metadata": {},
   "source": [
    "# Imports"
   ]
  },
  {
   "cell_type": "code",
   "execution_count": 1,
   "id": "990519d3-ea4a-4103-8a27-76ba0b2fe6c8",
   "metadata": {},
   "outputs": [],
   "source": [
    "import numpy as np\n",
    "import math\n",
    "from scipy.stats import chi2\n",
    "import os\n",
    "from time import perf_counter_ns, perf_counter"
   ]
  },
  {
   "cell_type": "code",
   "execution_count": 2,
   "id": "ea13542e-51bd-4e9e-b51d-1a1a84943d3f",
   "metadata": {},
   "outputs": [],
   "source": [
    "from tqdm import tqdm\n",
    "import torch\n",
    "import timeit\n",
    "import random"
   ]
  },
  {
   "cell_type": "code",
   "execution_count": 3,
   "id": "0c444bde-e3ba-48b3-b1db-e80e1e0e7c43",
   "metadata": {},
   "outputs": [],
   "source": [
    "from functools import partialmethod\n",
    "tqdm.__init__ = partialmethod(tqdm.__init__, disable=True)"
   ]
  },
  {
   "cell_type": "code",
   "execution_count": 4,
   "id": "db1e2e26-dd2a-42c8-b860-d8f82ebb0409",
   "metadata": {},
   "outputs": [],
   "source": [
    "os.chdir(\"..\")"
   ]
  },
  {
   "cell_type": "code",
   "execution_count": 5,
   "id": "b23dcfc2-967f-4ea7-b5fb-bd5bf84ff14c",
   "metadata": {},
   "outputs": [],
   "source": [
    "from DistanceMetrics import CVM_Dist, Wasserstein_Dist, Anderson_Darling_Dist, Kolmogorov_Smirnov_Dist, DTS_Dist\n",
    "from DistanceMetricsVec import CVM_Dist_p, Wasserstein_Dist_p, Anderson_Darling_Dist_p, Kolmogorov_Smirnov_Dist_p, DTS_Dist_p\n",
    "from DistanceMetricsVec import ES_Dist"
   ]
  },
  {
   "cell_type": "code",
   "execution_count": 6,
   "id": "1050e098-ac43-4a54-8ed0-e2ab62d1f0d1",
   "metadata": {},
   "outputs": [],
   "source": [
    "#The following library is developed by Fraunhofer and is still unreleased\n",
    "\n",
    "from safeml.core.ecdf_distance_measures import AndersonDarlingDistance\n",
    "from safeml.core.ecdf_distance_measures import KolmogorovSmirnovDistance\n",
    "from safeml.core.ecdf_distance_measures import WassersteinDistance\n",
    "from safeml.core.ecdf_distance_measures import CramerVonMisesDistance\n",
    "from safeml.core.ecdf_distance_measures import DTSDistance"
   ]
  },
  {
   "cell_type": "code",
   "execution_count": 7,
   "id": "dca30368-3d02-4347-80cc-039a09ada89f",
   "metadata": {},
   "outputs": [],
   "source": [
    "from safeml.DistanceMetrics import CVM_Dist_PVal\n",
    "from safeml.DistanceMetrics import Anderson_Darling_Dist_PVal\n",
    "from safeml.DistanceMetrics import Kolmogorov_Smirnov_Dist_PVal\n",
    "from safeml.DistanceMetrics import Wasserstein_Dist_PVal\n",
    "from safeml.DistanceMetrics import DTS_Dist_PVal"
   ]
  },
  {
   "cell_type": "code",
   "execution_count": 8,
   "id": "56168d95-5cdc-41d3-88a9-9543fa8cf2cc",
   "metadata": {},
   "outputs": [],
   "source": [
    "from DistanceMetricsVec import CVM_Dist_PVal as CVM_p\n",
    "from DistanceMetricsVec import Anderson_Darling_Dist_PVal as AD_p\n",
    "from DistanceMetricsVec import Kolmogorov_Smirnov_Dist_PVal as KS_p\n",
    "from DistanceMetricsVec import Wasserstein_Dist_PVal as WS_p\n",
    "from DistanceMetricsVec import DTS_Dist_PVal as DTS_p"
   ]
  },
  {
   "cell_type": "markdown",
   "id": "a4d2057c-c064-45bc-857f-045e8de15e56",
   "metadata": {},
   "source": [
    "# Generate ECDFs and Funcitons"
   ]
  },
  {
   "cell_type": "code",
   "execution_count": 9,
   "id": "696053c5-5838-4f07-81f8-cb8f7df6f3ca",
   "metadata": {},
   "outputs": [],
   "source": [
    "#create random variables\n",
    "\n",
    "XX1 = np.random.normal(1, 1, (10000, 1000))\n",
    "YY1 = np.random.normal(3, 1, (10000, 1000))\n",
    "\n"
   ]
  },
  {
   "cell_type": "code",
   "execution_count": 10,
   "id": "bfcde32d-971f-494a-b888-2633bf238995",
   "metadata": {},
   "outputs": [],
   "source": [
    "CVM = CramerVonMisesDistance()\n",
    "KS =  KolmogorovSmirnovDistance()\n",
    "WS =  WassersteinDistance()\n",
    "AD = AndersonDarlingDistance()\n",
    "DTS =  DTSDistance()"
   ]
  },
  {
   "attachments": {},
   "cell_type": "markdown",
   "id": "4418355b",
   "metadata": {},
   "source": [
    "Set up functions to test the distnace measures"
   ]
  },
  {
   "cell_type": "code",
   "execution_count": 11,
   "id": "3021c6dd-683f-4b0e-a10e-5fe407251954",
   "metadata": {},
   "outputs": [],
   "source": [
    "def measure_original(XX, YY, method):\n",
    "    length = len(XX)\n",
    "    res = np.empty(length)\n",
    "    for i in range(length):\n",
    "        res[i] = method(XX[i], YY[i])\n",
    "    return res"
   ]
  },
  {
   "cell_type": "code",
   "execution_count": 12,
   "id": "390ecdc0-3f95-4dc2-9b93-2d99eefb0d2f",
   "metadata": {},
   "outputs": [],
   "source": [
    "def measure_vec(XX, YY, method):\n",
    "    length = len(XX)\n",
    "    res = np.empty(length)\n",
    "    for i in range(length):\n",
    "        res[i] = method(XX[i], YY[i])\n",
    "    return res"
   ]
  },
  {
   "cell_type": "code",
   "execution_count": 13,
   "id": "e4dd9bf0-f7bd-4108-8997-f61d4fcdb238",
   "metadata": {},
   "outputs": [],
   "source": [
    "def measure_gpu(XX, YY, method):\n",
    "    \n",
    "    length = len(XX)\n",
    "    xt = torch.tensor(np.array([yy.flatten() for yy in XX])).to(\"cuda\")\n",
    "    yt = torch.tensor(np.array([yy.flatten() for yy in YY])).to(\"cuda\")\n",
    "    \n",
    "    res = torch.zeros(length)\n",
    "    for i in range(length):\n",
    "        res[i] = method._compute_distance_gpu(xt[i], yt[i], 1, 1, 1, \"cuda\")\n",
    "    return res.numpy"
   ]
  },
  {
   "cell_type": "code",
   "execution_count": 14,
   "id": "fc3670f1-5329-419f-920a-d435bf87c70b",
   "metadata": {},
   "outputs": [],
   "source": [
    "def measure_es(XX, YY, method):\n",
    "    length = len(XX)\n",
    "    res = np.empty(length)\n",
    "    for i in range(length):\n",
    "        res[i], _ = method(XX[i], YY[i])\n",
    "    return res"
   ]
  },
  {
   "cell_type": "markdown",
   "id": "f6b27133-3c3e-487d-83ec-c271adeaed53",
   "metadata": {},
   "source": [
    "# Measure Normal Excution"
   ]
  },
  {
   "cell_type": "markdown",
   "id": "450f64e9-9e54-4499-8306-2bf215ed53d8",
   "metadata": {},
   "source": [
    "### Cramer Von Mieses"
   ]
  },
  {
   "cell_type": "code",
   "execution_count": 15,
   "id": "dc5e6526-d99d-4844-871e-c49643b2b0c5",
   "metadata": {},
   "outputs": [
    {
     "name": "stdout",
     "output_type": "stream",
     "text": [
      "18 s ± 22.2 ms per loop (mean ± std. dev. of 7 runs, 1 loop each)\n"
     ]
    }
   ],
   "source": [
    "%timeit measure_original(XX1, YY1, CVM_Dist)"
   ]
  },
  {
   "cell_type": "code",
   "execution_count": 16,
   "id": "0fc55c11-061d-4289-bb5e-aed09f5ee7f7",
   "metadata": {},
   "outputs": [
    {
     "name": "stdout",
     "output_type": "stream",
     "text": [
      "7.24 s ± 58.9 ms per loop (mean ± std. dev. of 7 runs, 1 loop each)\n"
     ]
    }
   ],
   "source": [
    "%timeit measure_gpu(XX1, YY1, CVM)"
   ]
  },
  {
   "cell_type": "code",
   "execution_count": 17,
   "id": "ba22f5a0-36e6-442e-8c61-7f9bf8fe3861",
   "metadata": {},
   "outputs": [
    {
     "name": "stdout",
     "output_type": "stream",
     "text": [
      "1.57 s ± 5.95 ms per loop (mean ± std. dev. of 7 runs, 1 loop each)\n"
     ]
    }
   ],
   "source": [
    "%timeit measure_vec(XX1, YY1, CVM_Dist_p)"
   ]
  },
  {
   "cell_type": "markdown",
   "id": "fce024df-eb43-4cc5-a7c5-75c5626532d8",
   "metadata": {},
   "source": [
    "### Anderson Darling"
   ]
  },
  {
   "cell_type": "code",
   "execution_count": 18,
   "id": "36fb79b2-395d-4bcc-b3f8-15cf74be9f8a",
   "metadata": {},
   "outputs": [
    {
     "name": "stdout",
     "output_type": "stream",
     "text": [
      "26.6 s ± 159 ms per loop (mean ± std. dev. of 7 runs, 1 loop each)\n"
     ]
    }
   ],
   "source": [
    "%timeit measure_original(XX1, YY1, Anderson_Darling_Dist)"
   ]
  },
  {
   "cell_type": "code",
   "execution_count": 19,
   "id": "b73b5020-f428-4ae6-88cd-88fe9621d7a3",
   "metadata": {},
   "outputs": [
    {
     "name": "stdout",
     "output_type": "stream",
     "text": [
      "8.71 s ± 24.2 ms per loop (mean ± std. dev. of 7 runs, 1 loop each)\n"
     ]
    }
   ],
   "source": [
    "%timeit measure_gpu(XX1, YY1, AD)"
   ]
  },
  {
   "cell_type": "code",
   "execution_count": 20,
   "id": "96d4edf3-ec17-4e16-843d-2466f9702508",
   "metadata": {},
   "outputs": [
    {
     "name": "stdout",
     "output_type": "stream",
     "text": [
      "1.8 s ± 7.6 ms per loop (mean ± std. dev. of 7 runs, 1 loop each)\n"
     ]
    }
   ],
   "source": [
    "%timeit measure_vec(XX1, YY1, Anderson_Darling_Dist_p)"
   ]
  },
  {
   "cell_type": "markdown",
   "id": "51a9b77c-03be-40d6-8a62-786d002ab194",
   "metadata": {},
   "source": [
    "### Kolmogrov Smirnov"
   ]
  },
  {
   "cell_type": "code",
   "execution_count": 21,
   "id": "81cfb22f-e7a2-4a4d-9dd5-7d6dd33b1352",
   "metadata": {},
   "outputs": [
    {
     "name": "stdout",
     "output_type": "stream",
     "text": [
      "13.5 s ± 25.5 ms per loop (mean ± std. dev. of 7 runs, 1 loop each)\n"
     ]
    }
   ],
   "source": [
    "%timeit measure_original(XX1, YY1, Kolmogorov_Smirnov_Dist)"
   ]
  },
  {
   "cell_type": "code",
   "execution_count": 22,
   "id": "bfb0ea8f-4198-4d0c-9d3d-b65d623265d5",
   "metadata": {},
   "outputs": [
    {
     "name": "stdout",
     "output_type": "stream",
     "text": [
      "7.05 s ± 104 ms per loop (mean ± std. dev. of 7 runs, 1 loop each)\n"
     ]
    }
   ],
   "source": [
    "%timeit measure_gpu(XX1, YY1, KS)"
   ]
  },
  {
   "cell_type": "code",
   "execution_count": 23,
   "id": "5b2731e0-4104-427c-899a-1bf1f1267d07",
   "metadata": {},
   "outputs": [
    {
     "name": "stdout",
     "output_type": "stream",
     "text": [
      "1.55 s ± 6.77 ms per loop (mean ± std. dev. of 7 runs, 1 loop each)\n"
     ]
    }
   ],
   "source": [
    "%timeit measure_vec(XX1, YY1, Kolmogorov_Smirnov_Dist_p)"
   ]
  },
  {
   "cell_type": "markdown",
   "id": "6fde7780-f112-486b-a513-63db5e6a6c4e",
   "metadata": {},
   "source": [
    "### Wasserstein"
   ]
  },
  {
   "cell_type": "code",
   "execution_count": 24,
   "id": "9cd941fc-c1ed-4f9b-8e0c-f0673848333a",
   "metadata": {},
   "outputs": [
    {
     "name": "stdout",
     "output_type": "stream",
     "text": [
      "19.5 s ± 61 ms per loop (mean ± std. dev. of 7 runs, 1 loop each)\n"
     ]
    }
   ],
   "source": [
    "%timeit measure_original(XX1, YY1, Wasserstein_Dist)"
   ]
  },
  {
   "cell_type": "code",
   "execution_count": 25,
   "id": "71e06c33-db23-4d42-b3ca-e87f5c389cb8",
   "metadata": {},
   "outputs": [
    {
     "name": "stdout",
     "output_type": "stream",
     "text": [
      "5.86 s ± 65.6 ms per loop (mean ± std. dev. of 7 runs, 1 loop each)\n"
     ]
    }
   ],
   "source": [
    "%timeit measure_gpu(XX1, YY1, WS)"
   ]
  },
  {
   "cell_type": "code",
   "execution_count": 26,
   "id": "6d8f04ad-d228-481a-8981-5ffa755bd84d",
   "metadata": {},
   "outputs": [
    {
     "name": "stdout",
     "output_type": "stream",
     "text": [
      "1.54 s ± 8.99 ms per loop (mean ± std. dev. of 7 runs, 1 loop each)\n"
     ]
    }
   ],
   "source": [
    "%timeit measure_vec(XX1, YY1, Wasserstein_Dist_p)"
   ]
  },
  {
   "cell_type": "markdown",
   "id": "1c2f9185-8b76-4ac9-b9da-af8b259d1f5b",
   "metadata": {},
   "source": [
    "### DTS"
   ]
  },
  {
   "cell_type": "code",
   "execution_count": 27,
   "id": "41479022-7032-463a-95a9-cd4783b97a97",
   "metadata": {},
   "outputs": [
    {
     "name": "stdout",
     "output_type": "stream",
     "text": [
      "28 s ± 54.5 ms per loop (mean ± std. dev. of 7 runs, 1 loop each)\n"
     ]
    }
   ],
   "source": [
    "%timeit measure_original(XX1, YY1, DTS_Dist)"
   ]
  },
  {
   "cell_type": "code",
   "execution_count": 28,
   "id": "4071b6f1-8e80-4d42-9125-7aa32d0e6f53",
   "metadata": {},
   "outputs": [
    {
     "name": "stdout",
     "output_type": "stream",
     "text": [
      "8.91 s ± 71.9 ms per loop (mean ± std. dev. of 7 runs, 1 loop each)\n"
     ]
    }
   ],
   "source": [
    "%timeit measure_gpu(XX1, YY1, DTS)"
   ]
  },
  {
   "cell_type": "code",
   "execution_count": 29,
   "id": "a384dbd1-7ea4-4334-a87f-ceed4c5278e5",
   "metadata": {},
   "outputs": [
    {
     "name": "stdout",
     "output_type": "stream",
     "text": [
      "1.83 s ± 20.4 ms per loop (mean ± std. dev. of 7 runs, 1 loop each)\n"
     ]
    }
   ],
   "source": [
    "%timeit measure_vec(XX1, YY1, DTS_Dist_p)"
   ]
  },
  {
   "cell_type": "markdown",
   "id": "ce4309e5-4851-4553-8fb2-517e8b45c882",
   "metadata": {},
   "source": [
    "### ES"
   ]
  },
  {
   "cell_type": "code",
   "execution_count": 30,
   "id": "d8132171-9098-4cd9-862b-d217b904838d",
   "metadata": {},
   "outputs": [
    {
     "name": "stdout",
     "output_type": "stream",
     "text": [
      "5.68 s ± 53.7 ms per loop (mean ± std. dev. of 7 runs, 1 loop each)\n"
     ]
    }
   ],
   "source": [
    "%timeit measure_es(XX1, YY1, ES_Dist)"
   ]
  },
  {
   "cell_type": "markdown",
   "id": "0ef761ad-e388-44ce-814c-1753c40897f0",
   "metadata": {},
   "source": [
    "# Measure P-Val Excution"
   ]
  },
  {
   "cell_type": "code",
   "execution_count": 31,
   "id": "9f3ce65d-81fd-40b0-8304-60a7aace7c5d",
   "metadata": {},
   "outputs": [],
   "source": [
    "#create new random vairable to test distnace with p-val\n",
    "\n",
    "XX2 = np.random.normal(1, 1, (100, 1000))\n",
    "YY2 = np.random.normal(3, 1, (100, 1000))"
   ]
  },
  {
   "cell_type": "code",
   "execution_count": 32,
   "id": "507b8dbc-75e4-433c-9ec4-b78c0574e0f9",
   "metadata": {},
   "outputs": [],
   "source": [
    "def measure_pval(XX, YY, length, method):\n",
    "    res = np.zeros(length)\n",
    "    for i in range(length):\n",
    "        _, res[i] = method(XX[i], YY[i])\n",
    "\n",
    "    return res"
   ]
  },
  {
   "cell_type": "code",
   "execution_count": 33,
   "id": "5e5d82de-e1db-465d-b0d2-0b6781f534d1",
   "metadata": {},
   "outputs": [],
   "source": [
    "def measure_pval_gpu(XX, YY, length, method):\n",
    "    res = np.zeros(length)\n",
    "    xt = torch.tensor(np.array([yy.flatten() for yy in XX])).to(\"cuda\")\n",
    "    yt = torch.tensor(np.array([yy.flatten() for yy in YY])).to(\"cuda\")\n",
    "    \n",
    "    for i in range(length):\n",
    "        res[i], _ = method.measure_metric_p_value_gpu(XX[i], YY[i])\n",
    "\n",
    "    return res"
   ]
  },
  {
   "cell_type": "markdown",
   "id": "a648ac68-9382-4372-8b6d-6c5fad322fb1",
   "metadata": {},
   "source": [
    "### Cramer von Mieses"
   ]
  },
  {
   "cell_type": "code",
   "execution_count": 34,
   "id": "6ad39e66-088a-4854-bc48-a3ea59aef400",
   "metadata": {},
   "outputs": [
    {
     "name": "stdout",
     "output_type": "stream",
     "text": [
      "4min 13s ± 245 ms per loop (mean ± std. dev. of 7 runs, 1 loop each)\n"
     ]
    }
   ],
   "source": [
    "%timeit measure_pval(XX2, YY2, 100,CVM_Dist_PVal)"
   ]
  },
  {
   "cell_type": "code",
   "execution_count": 35,
   "id": "42fdcf2f-0d7d-42a7-b005-be2b62b10ba1",
   "metadata": {},
   "outputs": [
    {
     "name": "stdout",
     "output_type": "stream",
     "text": [
      "3min 42s ± 1.62 s per loop (mean ± std. dev. of 7 runs, 1 loop each)\n"
     ]
    }
   ],
   "source": [
    "%timeit measure_pval_gpu(XX2, YY2, 100, CVM)"
   ]
  },
  {
   "cell_type": "code",
   "execution_count": 36,
   "id": "737e8d5a-dd74-4e02-830e-1ecf9038815a",
   "metadata": {},
   "outputs": [
    {
     "name": "stdout",
     "output_type": "stream",
     "text": [
      "23.9 s ± 129 ms per loop (mean ± std. dev. of 7 runs, 1 loop each)\n"
     ]
    }
   ],
   "source": [
    "%timeit measure_pval(XX2, YY2, 100, CVM_p)"
   ]
  },
  {
   "cell_type": "markdown",
   "id": "ed4463c1-a9a3-429d-b60e-e5e14cc902da",
   "metadata": {},
   "source": [
    "### Anderson Darling"
   ]
  },
  {
   "cell_type": "code",
   "execution_count": 37,
   "id": "7c1c2f5a-4cfd-4d8f-ac28-6b8b976b2e05",
   "metadata": {},
   "outputs": [
    {
     "name": "stdout",
     "output_type": "stream",
     "text": [
      "5min 35s ± 640 ms per loop (mean ± std. dev. of 7 runs, 1 loop each)\n"
     ]
    }
   ],
   "source": [
    "%timeit measure_pval(XX2, YY2, 100, Anderson_Darling_Dist_PVal)"
   ]
  },
  {
   "cell_type": "code",
   "execution_count": 38,
   "id": "b9b0ace1-6f2a-40e1-8dc2-12db55a7e997",
   "metadata": {},
   "outputs": [
    {
     "name": "stdout",
     "output_type": "stream",
     "text": [
      "4min 8s ± 247 ms per loop (mean ± std. dev. of 7 runs, 1 loop each)\n"
     ]
    }
   ],
   "source": [
    "%timeit measure_pval_gpu(XX2, YY2, 100, AD)"
   ]
  },
  {
   "cell_type": "code",
   "execution_count": 39,
   "id": "68bb1875-d340-4b6b-9174-8eeb726c6877",
   "metadata": {},
   "outputs": [
    {
     "name": "stdout",
     "output_type": "stream",
     "text": [
      "27.5 s ± 23.2 ms per loop (mean ± std. dev. of 7 runs, 1 loop each)\n"
     ]
    }
   ],
   "source": [
    "%timeit measure_pval(XX2, YY2, 100, AD_p)"
   ]
  },
  {
   "cell_type": "markdown",
   "id": "63164e60-9922-4e03-833a-c41d277ac4f1",
   "metadata": {},
   "source": [
    "### Kolmogrov Smirnov"
   ]
  },
  {
   "cell_type": "code",
   "execution_count": 40,
   "id": "b56be6ff-56d7-4c2b-b21c-778515cfc414",
   "metadata": {},
   "outputs": [
    {
     "name": "stdout",
     "output_type": "stream",
     "text": [
      "3min 36s ± 139 ms per loop (mean ± std. dev. of 7 runs, 1 loop each)\n"
     ]
    }
   ],
   "source": [
    "%timeit measure_pval(XX2, YY2, 100, Kolmogorov_Smirnov_Dist_PVal)"
   ]
  },
  {
   "cell_type": "code",
   "execution_count": 41,
   "id": "163e4596-613d-4142-9da6-13c1c7e1a163",
   "metadata": {},
   "outputs": [
    {
     "name": "stdout",
     "output_type": "stream",
     "text": [
      "3min 54s ± 772 ms per loop (mean ± std. dev. of 7 runs, 1 loop each)\n"
     ]
    }
   ],
   "source": [
    "%timeit measure_pval_gpu(XX2, YY2, 100, KS)"
   ]
  },
  {
   "cell_type": "code",
   "execution_count": 42,
   "id": "c5098665-b12a-4987-a27d-f6fe27871b37",
   "metadata": {},
   "outputs": [
    {
     "name": "stdout",
     "output_type": "stream",
     "text": [
      "23.4 s ± 94.6 ms per loop (mean ± std. dev. of 7 runs, 1 loop each)\n"
     ]
    }
   ],
   "source": [
    "%timeit measure_pval(XX2, YY2, 100, KS_p)"
   ]
  },
  {
   "cell_type": "markdown",
   "id": "18689f22-31c3-46ff-8061-d8ad911654cf",
   "metadata": {},
   "source": [
    "### Wasserstein"
   ]
  },
  {
   "cell_type": "code",
   "execution_count": 43,
   "id": "422ecca3-f8b7-4b66-975c-d7123517236d",
   "metadata": {},
   "outputs": [
    {
     "name": "stdout",
     "output_type": "stream",
     "text": [
      "4min 43s ± 277 ms per loop (mean ± std. dev. of 7 runs, 1 loop each)\n"
     ]
    }
   ],
   "source": [
    "%timeit measure_pval(XX2, YY2, 100, Wasserstein_Dist_PVal)"
   ]
  },
  {
   "cell_type": "code",
   "execution_count": 44,
   "id": "3225820a-a07b-45b3-96d4-06f708483e48",
   "metadata": {},
   "outputs": [
    {
     "name": "stdout",
     "output_type": "stream",
     "text": [
      "3min 33s ± 206 ms per loop (mean ± std. dev. of 7 runs, 1 loop each)\n"
     ]
    }
   ],
   "source": [
    "%timeit measure_pval_gpu(XX2, YY2, 100, WS)"
   ]
  },
  {
   "cell_type": "code",
   "execution_count": 45,
   "id": "1d552307-7b7f-44af-9909-de4cdebf7b90",
   "metadata": {},
   "outputs": [
    {
     "name": "stdout",
     "output_type": "stream",
     "text": [
      "23.3 s ± 33.5 ms per loop (mean ± std. dev. of 7 runs, 1 loop each)\n"
     ]
    }
   ],
   "source": [
    "%timeit measure_pval(XX2, YY2, 100, WS_p)"
   ]
  },
  {
   "cell_type": "markdown",
   "id": "85e8d49a-110b-4ff4-8f7c-b3f6190b363e",
   "metadata": {},
   "source": [
    "### DTS"
   ]
  },
  {
   "cell_type": "code",
   "execution_count": 46,
   "id": "7d97397b-39f4-4dc5-a45c-70c05bed63b6",
   "metadata": {},
   "outputs": [
    {
     "name": "stdout",
     "output_type": "stream",
     "text": [
      "6min 15s ± 285 ms per loop (mean ± std. dev. of 7 runs, 1 loop each)\n"
     ]
    }
   ],
   "source": [
    "%timeit measure_pval(XX2, YY2, 100, DTS_Dist_PVal)"
   ]
  },
  {
   "cell_type": "code",
   "execution_count": 47,
   "id": "176f937f-e89d-42ab-95ac-a64740067d2a",
   "metadata": {},
   "outputs": [
    {
     "name": "stdout",
     "output_type": "stream",
     "text": [
      "4min 14s ± 1.31 s per loop (mean ± std. dev. of 7 runs, 1 loop each)\n"
     ]
    }
   ],
   "source": [
    "%timeit measure_pval_gpu(XX2, YY2, 100, DTS)"
   ]
  },
  {
   "cell_type": "code",
   "execution_count": 48,
   "id": "bee37975-3368-4ce4-a430-1a1ec0085c05",
   "metadata": {},
   "outputs": [
    {
     "name": "stdout",
     "output_type": "stream",
     "text": [
      "26.3 s ± 39.2 ms per loop (mean ± std. dev. of 7 runs, 1 loop each)\n"
     ]
    }
   ],
   "source": [
    "%timeit measure_pval(XX2, YY2, 100, DTS_p)"
   ]
  },
  {
   "cell_type": "markdown",
   "id": "4d43793a-83c4-4f54-b93f-756871fcfebe",
   "metadata": {},
   "source": [
    "### ES"
   ]
  },
  {
   "cell_type": "code",
   "execution_count": 49,
   "id": "b0af2f53-65aa-43ca-b226-d02bcf28efc4",
   "metadata": {},
   "outputs": [
    {
     "name": "stdout",
     "output_type": "stream",
     "text": [
      "57.5 ms ± 1.76 ms per loop (mean ± std. dev. of 7 runs, 10 loops each)\n"
     ]
    }
   ],
   "source": [
    "%timeit measure_pval(XX2, YY2, 100, ES_Dist)"
   ]
  },
  {
   "cell_type": "code",
   "execution_count": null,
   "id": "1bdcfbb4-0925-4873-8978-5586e5ad9152",
   "metadata": {},
   "outputs": [],
   "source": []
  }
 ],
 "metadata": {
  "kernelspec": {
   "display_name": "Python 3",
   "language": "python",
   "name": "python3"
  },
  "language_info": {
   "codemirror_mode": {
    "name": "ipython",
    "version": 3
   },
   "file_extension": ".py",
   "mimetype": "text/x-python",
   "name": "python",
   "nbconvert_exporter": "python",
   "pygments_lexer": "ipython3",
   "version": "3.9.2"
  }
 },
 "nbformat": 4,
 "nbformat_minor": 5
}
